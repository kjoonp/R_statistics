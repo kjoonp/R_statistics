{
  "nbformat": 4,
  "nbformat_minor": 0,
  "metadata": {
    "colab": {
      "name": "R수업02_자료형.ipynb",
      "provenance": []
    },
    "kernelspec": {
      "name": "ir",
      "display_name": "R"
    }
  },
  "cells": [
    {
      "cell_type": "code",
      "metadata": {
        "id": "G_yEBX1CmChM",
        "colab_type": "code",
        "colab": {
          "base_uri": "https://localhost:8080/",
          "height": 89
        },
        "outputId": "a621c7c7-c737-4d48-ad80-ff1096f0b2a4"
      },
      "source": [
        "# 변수기반 연산\n",
        "a <- 8\n",
        "b <- 5\n",
        "print ( a + b )\n",
        "print ( a - b )\n",
        "print ( a * b )\n",
        "print ( a / b )"
      ],
      "execution_count": null,
      "outputs": [
        {
          "output_type": "stream",
          "text": [
            "[1] 13\n",
            "[1] 3\n",
            "[1] 40\n",
            "[1] 1.6\n"
          ],
          "name": "stdout"
        }
      ]
    },
    {
      "cell_type": "code",
      "metadata": {
        "id": "yn3f-ohw21no",
        "colab_type": "code",
        "colab": {
          "base_uri": "https://localhost:8080/",
          "height": 35
        },
        "outputId": "8a880c70-d6ee-483d-e7cc-92e228a05aeb"
      },
      "source": [
        "names <- c('철수', '혜련', '재국', '원식', '대열')\n",
        "kors <- c(90,97,67,80)\n",
        "engs <- c(56,70,98,87)\n",
        "mats <- c(98,80,99,76)\n",
        "print (names)"
      ],
      "execution_count": null,
      "outputs": [
        {
          "output_type": "stream",
          "text": [
            "[1] \"철수\" \"혜련\" \"재국\" \"원식\" \"대열\"\n"
          ],
          "name": "stdout"
        }
      ]
    },
    {
      "cell_type": "code",
      "metadata": {
        "id": "3BTlaln8w42b",
        "colab_type": "code",
        "colab": {
          "base_uri": "https://localhost:8080/",
          "height": 89
        },
        "outputId": "09e7df19-adc3-4ea4-9ab1-8e4a352d4daa"
      },
      "source": [
        "print ( 8 + 5 )\n",
        "print ( 8 - 5 ) \n",
        "print ( 8 * 5 )\n",
        "print ( 8 / 5 )"
      ],
      "execution_count": null,
      "outputs": [
        {
          "output_type": "stream",
          "text": [
            "[1] 13\n",
            "[1] 3\n",
            "[1] 40\n",
            "[1] 1.6\n"
          ],
          "name": "stdout"
        }
      ]
    },
    {
      "cell_type": "code",
      "metadata": {
        "id": "I4y-5RFpz1Fg",
        "colab_type": "code",
        "colab": {
          "base_uri": "https://localhost:8080/",
          "height": 34
        },
        "outputId": "6c1dc0ff-b808-4192-bfc6-9c8882520205"
      },
      "source": [
        "name <- '혜교'\n",
        "kor <- 98\n",
        "eng <- 56\n",
        "mat <- 77\n",
        "tot <- kor + eng + mat\n",
        "avg <- tot / 3\n",
        "sprintf('%s %d %d %d %d %.1f' , name, kor, eng, mat,tot, avg)"
      ],
      "execution_count": null,
      "outputs": [
        {
          "output_type": "display_data",
          "data": {
            "text/plain": [
              "[1] \"혜교 98 56 77 231 77.0\""
            ],
            "text/latex": "'혜교 98 56 77 231 77.0'",
            "text/markdown": "'혜교 98 56 77 231 77.0'",
            "text/html": [
              "'혜교 98 56 77 231 77.0'"
            ]
          },
          "metadata": {
            "tags": []
          }
        }
      ]
    },
    {
      "cell_type": "code",
      "metadata": {
        "id": "GyZqAEo53Xez",
        "colab_type": "code",
        "colab": {
          "base_uri": "https://localhost:8080/",
          "height": 89
        },
        "outputId": "5d609027-9272-4c55-b83e-3a19a1f61c6a"
      },
      "source": [
        "names <- c('철수', '혜련', '재국', '원식', '대열')\n",
        "kors <- c(90,97,67,80)\n",
        "engs <- c(56,70,98,87)\n",
        "mats <- c(98,80,99,76)\n",
        "print (names)\n",
        "print (names)\n",
        "print (names)\n",
        "print (names)"
      ],
      "execution_count": null,
      "outputs": [
        {
          "output_type": "stream",
          "text": [
            "[1] \"철수\" \"혜련\" \"재국\" \"원식\" \"대열\"\n",
            "[1] \"철수\" \"혜련\" \"재국\" \"원식\" \"대열\"\n",
            "[1] \"철수\" \"혜련\" \"재국\" \"원식\" \"대열\"\n",
            "[1] \"철수\" \"혜련\" \"재국\" \"원식\" \"대열\"\n"
          ],
          "name": "stdout"
        }
      ]
    },
    {
      "cell_type": "code",
      "metadata": {
        "id": "AWThtZby3YTj",
        "colab_type": "code",
        "colab": {
          "base_uri": "https://localhost:8080/",
          "height": 89
        },
        "outputId": "1525f322-fcfc-44ec-d4b6-43345b6f6aeb"
      },
      "source": [
        "names <- c('철수', '혜련', '재국', '원식', '대열')\n",
        "kors <- c(90,97,67,80)\n",
        "engs <- c(56,70,98,87)\n",
        "mats <- c(98,80,99,76)\n",
        "print (names)\n",
        "print (kors)\n",
        "print (engs)\n",
        "print (mats)"
      ],
      "execution_count": null,
      "outputs": [
        {
          "output_type": "stream",
          "text": [
            "[1] \"철수\" \"혜련\" \"재국\" \"원식\" \"대열\"\n",
            "[1] 90 97 67 80\n",
            "[1] 56 70 98 87\n",
            "[1] 98 80 99 76\n"
          ],
          "name": "stdout"
        }
      ]
    },
    {
      "cell_type": "code",
      "metadata": {
        "id": "Z0qEMstH3zxs",
        "colab_type": "code",
        "colab": {
          "base_uri": "https://localhost:8080/",
          "height": 35
        },
        "outputId": "928dd07e-a1d5-49c3-c88d-26ec74196750"
      },
      "source": [
        "tots <- kors + engs + mats\n",
        "print (tots)"
      ],
      "execution_count": null,
      "outputs": [
        {
          "output_type": "stream",
          "text": [
            "[1] 244 247 264 243\n"
          ],
          "name": "stdout"
        }
      ]
    },
    {
      "cell_type": "code",
      "metadata": {
        "id": "Jj8DTLPL4ahM",
        "colab_type": "code",
        "colab": {
          "base_uri": "https://localhost:8080/",
          "height": 53
        },
        "outputId": "e59654d4-7c7a-46e8-fb40-d955f52be24d"
      },
      "source": [
        "tots <- kors + engs + mats\n",
        "avgs <- tots / 3\n",
        "print (tots)\n",
        "print (avgs)"
      ],
      "execution_count": null,
      "outputs": [
        {
          "output_type": "stream",
          "text": [
            "[1] 244 247 264 243\n",
            "[1] 81.33333 82.33333 88.00000 81.00000\n"
          ],
          "name": "stdout"
        }
      ]
    },
    {
      "cell_type": "code",
      "metadata": {
        "id": "Yk8i-agI4rzr",
        "colab_type": "code",
        "colab": {
          "base_uri": "https://localhost:8080/",
          "height": 35
        },
        "outputId": "6dc38908-c107-4ac2-c0de-eaee594ebf6b"
      },
      "source": [
        "mkor <- mean(kors)\n",
        "print(mkor)"
      ],
      "execution_count": null,
      "outputs": [
        {
          "output_type": "stream",
          "text": [
            "[1] 83.5\n"
          ],
          "name": "stdout"
        }
      ]
    },
    {
      "cell_type": "code",
      "metadata": {
        "id": "qA6F2yqG5Wf2",
        "colab_type": "code",
        "colab": {
          "base_uri": "https://localhost:8080/",
          "height": 71
        },
        "outputId": "85ccb261-9a05-4b31-f3f2-5a0c12d358d7"
      },
      "source": [
        "mdkor <- median(kors)\n",
        "mxkor <- max(kors)\n",
        "mnkor <- min(kors) \n",
        "print(mdkor)\n",
        "print(mxkor)\n",
        "print(mnkor)"
      ],
      "execution_count": null,
      "outputs": [
        {
          "output_type": "stream",
          "text": [
            "[1] 85\n",
            "[1] 97\n",
            "[1] 67\n"
          ],
          "name": "stdout"
        }
      ]
    },
    {
      "cell_type": "code",
      "metadata": {
        "id": "-zZzbcIU8tn3",
        "colab_type": "code",
        "colab": {
          "base_uri": "https://localhost:8080/",
          "height": 143
        },
        "outputId": "398af4cc-a598-4a96-a18f-2f3545f14deb"
      },
      "source": [
        "mkor <- mean(kors)\n",
        "print(mkor)\n",
        "mdkor <- median(kors)\n",
        "mxkor <- max(kors)\n",
        "mnkor <- min(kors)\n",
        "sdkor <- sd(kors)\n",
        "rkor <- range(kors)  \n",
        "nkor <- length(kors) \n",
        "print(mdkor)\n",
        "print(mxkor)\n",
        "print(mnkor)\n",
        "print(sdkor)\n",
        "print(rkor)\n",
        "print(nkor)"
      ],
      "execution_count": null,
      "outputs": [
        {
          "output_type": "stream",
          "text": [
            "[1] 83.5\n",
            "[1] 85\n",
            "[1] 97\n",
            "[1] 67\n",
            "[1] 13.02562\n",
            "[1] 67 97\n",
            "[1] 4\n"
          ],
          "name": "stdout"
        }
      ]
    },
    {
      "cell_type": "code",
      "metadata": {
        "id": "e6vE4z0J_i6F",
        "colab_type": "code",
        "colab": {
          "base_uri": "https://localhost:8080/",
          "height": 35
        },
        "outputId": "2765908c-7c80-4f3c-94d8-0d6095beec20"
      },
      "source": [
        "age <- c(01,03,05,02,11,09,03,09,12,03)\n",
        "print(age)"
      ],
      "execution_count": null,
      "outputs": [
        {
          "output_type": "stream",
          "text": [
            " [1]  1  3  5  2 11  9  3  9 12  3\n"
          ],
          "name": "stdout"
        }
      ]
    },
    {
      "cell_type": "code",
      "metadata": {
        "id": "HA_hFZto9erq",
        "colab_type": "code",
        "colab": {
          "base_uri": "https://localhost:8080/",
          "height": 53
        },
        "outputId": "ebb5c7dc-2bf7-46f7-c18b-2bb0836dedac"
      },
      "source": [
        "lg1 <- mean(kors) < mean(engs)\n",
        "lg2 <- mean(kors) < mean(engs) & mean(kors) < mean(mats)\n",
        "print(lg1)\n",
        "print(lg2)"
      ],
      "execution_count": null,
      "outputs": [
        {
          "output_type": "stream",
          "text": [
            "[1] FALSE\n",
            "[1] FALSE\n"
          ],
          "name": "stdout"
        }
      ]
    },
    {
      "cell_type": "code",
      "metadata": {
        "id": "OCouwy5z_5Hq",
        "colab_type": "code",
        "colab": {
          "base_uri": "https://localhost:8080/",
          "height": 53
        },
        "outputId": "33a675c7-1d19-4e31-aa58-7105e9529e1d"
      },
      "source": [
        "age <- c(01,03,05,02,11,09,03,09,12,03)\n",
        "weight <- c(4.4,5.3,7.2,5.2,8.5,7.3,6.0,10.4,10.2,6.1)\n",
        "print(age)\n",
        "print(weight)"
      ],
      "execution_count": null,
      "outputs": [
        {
          "output_type": "stream",
          "text": [
            " [1]  1  3  5  2 11  9  3  9 12  3\n",
            " [1]  4.4  5.3  7.2  5.2  8.5  7.3  6.0 10.4 10.2  6.1\n"
          ],
          "name": "stdout"
        }
      ]
    },
    {
      "cell_type": "code",
      "metadata": {
        "id": "Mbw6_t1JCprE",
        "colab_type": "code",
        "colab": {}
      },
      "source": [
        "mweight <- mean(weight)\n",
        "mdweight <- median(weight)\n",
        "sdweight <- sd(weight)"
      ],
      "execution_count": null,
      "outputs": []
    },
    {
      "cell_type": "code",
      "metadata": {
        "id": "eHiFZkTmCyDZ",
        "colab_type": "code",
        "colab": {
          "base_uri": "https://localhost:8080/",
          "height": 71
        },
        "outputId": "853f4f54-7792-48ce-a60f-7e2036c4b426"
      },
      "source": [
        "age <- c(01,03,05,02,11,09,03,09,12,03)\n",
        "weight <- c(4.4,5.3,7.2,5.2,8.5,7.3,6.0,10.4,10.2,6.1)\n",
        "mweight <- mean(weight)\n",
        "mdweight <- median(weight)\n",
        "sdweight <- sd(weight)\n",
        "print(mweight)\n",
        "print(mdweight)\n",
        "print(sdweight)"
      ],
      "execution_count": null,
      "outputs": [
        {
          "output_type": "stream",
          "text": [
            "[1] 7.06\n",
            "[1] 6.65\n",
            "[1] 2.077498\n"
          ],
          "name": "stdout"
        }
      ]
    },
    {
      "cell_type": "code",
      "metadata": {
        "id": "pKaxh_KGDtV-",
        "colab_type": "code",
        "colab": {
          "base_uri": "https://localhost:8080/",
          "height": 437
        },
        "outputId": "e07766c1-fcac-4406-a5dc-657d4b7b222a"
      },
      "source": [
        "plot(age,weight)\n",
        "m <- lm(weight ~ age)\n",
        "abline(m, col='red')"
      ],
      "execution_count": null,
      "outputs": [
        {
          "output_type": "display_data",
          "data": {
            "image/png": "[encoded data removed]",
            "text/plain": [
              "plot without title"
            ]
          },
          "metadata": {
            "tags": [],
            "image/png": {
              "width": 420,
              "height": 420
            }
          }
        }
      ]
    },
    {
      "cell_type": "code",
      "metadata": {
        "id": "kQcqOzzkMt9n",
        "colab_type": "code",
        "colab": {
          "base_uri": "https://localhost:8080/",
          "height": 359
        },
        "outputId": "cbe3d8a0-e616-4e52-e531-a5a5fbc21eff"
      },
      "source": [
        "baby <- data.frame(age,weight)\n",
        "baby\n",
        "str(baby)"
      ],
      "execution_count": null,
      "outputs": [
        {
          "output_type": "display_data",
          "data": {
            "text/plain": [
              "   age weight\n",
              "1  32   4.4  \n",
              "2  45   5.3  \n",
              "3  25   7.2  \n",
              "4  39   5.2  \n",
              "5  55   8.5  \n",
              "6  32   7.3  \n",
              "7  45   6.0  \n",
              "8  25  10.4  \n",
              "9  39  10.2  \n",
              "10 55   6.1  "
            ],
            "text/latex": "A data.frame: 10 × 2\n\\begin{tabular}{ll}\n age & weight\\\\\n <dbl> & <dbl>\\\\\n\\hline\n\t 32 &  4.4\\\\\n\t 45 &  5.3\\\\\n\t 25 &  7.2\\\\\n\t 39 &  5.2\\\\\n\t 55 &  8.5\\\\\n\t 32 &  7.3\\\\\n\t 45 &  6.0\\\\\n\t 25 & 10.4\\\\\n\t 39 & 10.2\\\\\n\t 55 &  6.1\\\\\n\\end{tabular}\n",
            "text/markdown": "\nA data.frame: 10 × 2\n\n| age &lt;dbl&gt; | weight &lt;dbl&gt; |\n|---|---|\n| 32 |  4.4 |\n| 45 |  5.3 |\n| 25 |  7.2 |\n| 39 |  5.2 |\n| 55 |  8.5 |\n| 32 |  7.3 |\n| 45 |  6.0 |\n| 25 | 10.4 |\n| 39 | 10.2 |\n| 55 |  6.1 |\n\n",
            "text/html": [
              "<table>\n",
              "<caption>A data.frame: 10 × 2</caption>\n",
              "<thead>\n",
              "\t<tr><th scope=col>age</th><th scope=col>weight</th></tr>\n",
              "\t<tr><th scope=col>&lt;dbl&gt;</th><th scope=col>&lt;dbl&gt;</th></tr>\n",
              "</thead>\n",
              "<tbody>\n",
              "\t<tr><td>32</td><td> 4.4</td></tr>\n",
              "\t<tr><td>45</td><td> 5.3</td></tr>\n",
              "\t<tr><td>25</td><td> 7.2</td></tr>\n",
              "\t<tr><td>39</td><td> 5.2</td></tr>\n",
              "\t<tr><td>55</td><td> 8.5</td></tr>\n",
              "\t<tr><td>32</td><td> 7.3</td></tr>\n",
              "\t<tr><td>45</td><td> 6.0</td></tr>\n",
              "\t<tr><td>25</td><td>10.4</td></tr>\n",
              "\t<tr><td>39</td><td>10.2</td></tr>\n",
              "\t<tr><td>55</td><td> 6.1</td></tr>\n",
              "</tbody>\n",
              "</table>\n"
            ]
          },
          "metadata": {
            "tags": []
          }
        },
        {
          "output_type": "stream",
          "text": [
            "'data.frame':\t10 obs. of  2 variables:\n",
            " $ age   : num  32 45 25 39 55 32 45 25 39 55\n",
            " $ weight: num  4.4 5.3 7.2 5.2 8.5 7.3 6 10.4 10.2 6.1\n"
          ],
          "name": "stdout"
        }
      ]
    },
    {
      "cell_type": "code",
      "metadata": {
        "id": "CH0LXcdgGgzr",
        "colab_type": "code",
        "colab": {
          "base_uri": "https://localhost:8080/",
          "height": 51
        },
        "outputId": "0a7770c7-da84-4562-f67d-3d039aad7483"
      },
      "source": [
        "mean(q1)\n",
        "mean(q4, na.rm=T)"
      ],
      "execution_count": null,
      "outputs": [
        {
          "output_type": "display_data",
          "data": {
            "text/plain": [
              "[1] 3.2"
            ],
            "text/latex": "3.2",
            "text/markdown": "3.2",
            "text/html": [
              "3.2"
            ]
          },
          "metadata": {
            "tags": []
          }
        },
        {
          "output_type": "display_data",
          "data": {
            "text/plain": [
              "[1] 5"
            ],
            "text/latex": "5",
            "text/markdown": "5",
            "text/html": [
              "5"
            ]
          },
          "metadata": {
            "tags": []
          }
        }
      ]
    },
    {
      "cell_type": "code",
      "metadata": {
        "id": "lQZw_UNtLxrh",
        "colab_type": "code",
        "colab": {
          "base_uri": "https://localhost:8080/",
          "height": 359
        },
        "outputId": "3627266a-6d77-4d6b-f63f-a98d77e95b5e"
      },
      "source": [
        "baby <- data.frame(age,weight)\n",
        "baby\n",
        "str(baby)"
      ],
      "execution_count": null,
      "outputs": [
        {
          "output_type": "display_data",
          "data": {
            "text/plain": [
              "   age weight\n",
              "1  32   4.4  \n",
              "2  45   5.3  \n",
              "3  25   7.2  \n",
              "4  39   5.2  \n",
              "5  55   8.5  \n",
              "6  32   7.3  \n",
              "7  45   6.0  \n",
              "8  25  10.4  \n",
              "9  39  10.2  \n",
              "10 55   6.1  "
            ],
            "text/latex": "A data.frame: 10 × 2\n\\begin{tabular}{ll}\n age & weight\\\\\n <dbl> & <dbl>\\\\\n\\hline\n\t 32 &  4.4\\\\\n\t 45 &  5.3\\\\\n\t 25 &  7.2\\\\\n\t 39 &  5.2\\\\\n\t 55 &  8.5\\\\\n\t 32 &  7.3\\\\\n\t 45 &  6.0\\\\\n\t 25 & 10.4\\\\\n\t 39 & 10.2\\\\\n\t 55 &  6.1\\\\\n\\end{tabular}\n",
            "text/markdown": "\nA data.frame: 10 × 2\n\n| age &lt;dbl&gt; | weight &lt;dbl&gt; |\n|---|---|\n| 32 |  4.4 |\n| 45 |  5.3 |\n| 25 |  7.2 |\n| 39 |  5.2 |\n| 55 |  8.5 |\n| 32 |  7.3 |\n| 45 |  6.0 |\n| 25 | 10.4 |\n| 39 | 10.2 |\n| 55 |  6.1 |\n\n",
            "text/html": [
              "<table>\n",
              "<caption>A data.frame: 10 × 2</caption>\n",
              "<thead>\n",
              "\t<tr><th scope=col>age</th><th scope=col>weight</th></tr>\n",
              "\t<tr><th scope=col>&lt;dbl&gt;</th><th scope=col>&lt;dbl&gt;</th></tr>\n",
              "</thead>\n",
              "<tbody>\n",
              "\t<tr><td>32</td><td> 4.4</td></tr>\n",
              "\t<tr><td>45</td><td> 5.3</td></tr>\n",
              "\t<tr><td>25</td><td> 7.2</td></tr>\n",
              "\t<tr><td>39</td><td> 5.2</td></tr>\n",
              "\t<tr><td>55</td><td> 8.5</td></tr>\n",
              "\t<tr><td>32</td><td> 7.3</td></tr>\n",
              "\t<tr><td>45</td><td> 6.0</td></tr>\n",
              "\t<tr><td>25</td><td>10.4</td></tr>\n",
              "\t<tr><td>39</td><td>10.2</td></tr>\n",
              "\t<tr><td>55</td><td> 6.1</td></tr>\n",
              "</tbody>\n",
              "</table>\n"
            ]
          },
          "metadata": {
            "tags": []
          }
        },
        {
          "output_type": "stream",
          "text": [
            "'data.frame':\t10 obs. of  2 variables:\n",
            " $ age   : num  32 45 25 39 55 32 45 25 39 55\n",
            " $ weight: num  4.4 5.3 7.2 5.2 8.5 7.3 6 10.4 10.2 6.1\n"
          ],
          "name": "stdout"
        }
      ]
    },
    {
      "cell_type": "code",
      "metadata": {
        "id": "rYS-bp3cD2jJ",
        "colab_type": "code",
        "colab": {
          "base_uri": "https://localhost:8080/",
          "height": 437
        },
        "outputId": "8aa04953-d50d-4014-9c12-46b731f225c9"
      },
      "source": [
        "manager <- c(1,2,3,4,5)\n",
        "date <- c('10/24/14','10/28/14','10/01/14','10/12/14','05/01/14')\n",
        "country <- c('us','us','uk','uk','uk')\n",
        "gender <- c('M','F','F','M','F')\n",
        "mgrage <- c(32,45,25,39,55)\n",
        "q1 <- c(5,3,3,3,2)\n",
        "q2 <- c(4,5,5,3,2)\n",
        "q3 <- c(5,2,5,4,1)\n",
        "q4 <- c(5,5,5,NA,NA)\n",
        "frq_c <- table(country)\n",
        "barplot(frq_c)"
      ],
      "execution_count": null,
      "outputs": [
        {
          "output_type": "display_data",
          "data": {
            "image/png": "[encoded data removed]",
            "text/plain": [
              "plot without title"
            ]
          },
          "metadata": {
            "tags": [],
            "image/png": {
              "width": 420,
              "height": 420
            }
          }
        }
      ]
    },
    {
      "cell_type": "code",
      "metadata": {
        "id": "vSZP6b0cYvzd",
        "colab_type": "code",
        "colab": {}
      },
      "source": [
        ""
      ],
      "execution_count": null,
      "outputs": []
    },
    {
      "cell_type": "code",
      "metadata": {
        "id": "Y_VqgfzUOApW",
        "colab_type": "code",
        "colab": {
          "base_uri": "https://localhost:8080/",
          "height": 197
        },
        "outputId": "cfb0874e-6518-4ca2-afe0-436c6218cca5"
      },
      "source": [
        "managers <- data.frame(manager,date,country,gender,mgrage,q1,q2,q3,q4, stringsAsFactors= F)\n",
        "str(managers)"
      ],
      "execution_count": null,
      "outputs": [
        {
          "output_type": "stream",
          "text": [
            "'data.frame':\t5 obs. of  9 variables:\n",
            " $ manager: num  1 2 3 4 5\n",
            " $ date   : chr  \"10/24/14\" \"10/28/14\" \"10/01/14\" \"10/12/14\" ...\n",
            " $ country: chr  \"us\" \"us\" \"uk\" \"uk\" ...\n",
            " $ gender : chr  \"M\" \"F\" \"F\" \"M\" ...\n",
            " $ mgrage : num  32 45 25 39 55\n",
            " $ q1     : num  5 3 3 3 2\n",
            " $ q2     : num  4 5 5 3 2\n",
            " $ q3     : num  5 2 5 4 1\n",
            " $ q4     : num  5 5 5 NA NA\n"
          ],
          "name": "stdout"
        }
      ]
    },
    {
      "cell_type": "code",
      "metadata": {
        "id": "wQSIcaCzRLYQ",
        "colab_type": "code",
        "colab": {
          "base_uri": "https://localhost:8080/",
          "height": 197
        },
        "outputId": "30b4cd25-43aa-447d-d281-e0f1cdc1ad4e"
      },
      "source": [
        "manager$gender <- as.factor(managers$gender)\n",
        "str(managers)"
      ],
      "execution_count": null,
      "outputs": [
        {
          "output_type": "stream",
          "text": [
            "'data.frame':\t5 obs. of  9 variables:\n",
            " $ manager: num  1 2 3 4 5\n",
            " $ date   : chr  \"10/24/14\" \"10/28/14\" \"10/01/14\" \"10/12/14\" ...\n",
            " $ country: chr  \"us\" \"us\" \"uk\" \"uk\" ...\n",
            " $ gender : chr  \"M\" \"F\" \"F\" \"M\" ...\n",
            " $ mgrage : num  32 45 25 39 55\n",
            " $ q1     : num  5 3 3 3 2\n",
            " $ q2     : num  4 5 5 3 2\n",
            " $ q3     : num  5 2 5 4 1\n",
            " $ q4     : num  5 5 5 NA NA\n"
          ],
          "name": "stdout"
        }
      ]
    },
    {
      "cell_type": "code",
      "metadata": {
        "id": "j1CUkAeKTWcf",
        "colab_type": "code",
        "colab": {
          "base_uri": "https://localhost:8080/",
          "height": 233
        },
        "outputId": "79982c23-a26c-46b9-eadd-c4726e699f1a"
      },
      "source": [
        "titanic <- read.csv('https://raw.githubusercontent.com/siestageek/R_statstics/master/datasets/titanic.csv')\n",
        "str(titanic)"
      ],
      "execution_count": 1,
      "outputs": [
        {
          "output_type": "stream",
          "text": [
            "'data.frame':\t1310 obs. of  11 variables:\n",
            " $ pclass  : int  1 1 1 1 1 1 1 1 1 1 ...\n",
            " $ survived: int  1 1 0 0 0 1 1 0 1 0 ...\n",
            " $ name    : Factor w/ 1308 levels \"\",\"Abbing, Mr. Anthony\",..: 23 25 26 27 28 32 47 48 52 56 ...\n",
            " $ sex     : Factor w/ 3 levels \"\",\"female\",\"male\": 2 3 2 3 2 3 2 3 2 3 ...\n",
            " $ age     : num  29 0.917 2 30 25 ...\n",
            " $ sibsp   : int  0 1 1 1 1 0 1 0 2 0 ...\n",
            " $ parch   : int  0 2 2 2 2 0 0 0 0 0 ...\n",
            " $ ticket  : Factor w/ 930 levels \"\",\"110152\",\"110413\",..: 189 51 51 51 51 126 94 17 78 827 ...\n",
            " $ fare    : num  211 152 152 152 152 ...\n",
            " $ cabin   : Factor w/ 187 levels \"\",\"A10\",\"A11\",..: 45 81 81 81 81 151 147 17 63 1 ...\n",
            " $ embarked: Factor w/ 4 levels \"\",\"C\",\"Q\",\"S\": 4 4 4 4 4 4 4 4 4 2 ...\n"
          ],
          "name": "stdout"
        }
      ]
    },
    {
      "cell_type": "code",
      "metadata": {
        "id": "GDEHjoCpUiR_",
        "colab_type": "code",
        "colab": {
          "base_uri": "https://localhost:8080/",
          "height": 449
        },
        "outputId": "18306993-d17a-4a92-a7b7-748a6a1f639f"
      },
      "source": [
        "summary(titanic)"
      ],
      "execution_count": null,
      "outputs": [
        {
          "output_type": "display_data",
          "data": {
            "text/plain": [
              "     pclass         survived                                name     \n",
              " Min.   :1.000   Min.   :0.000   Connolly, Miss. Kate         :   2  \n",
              " 1st Qu.:2.000   1st Qu.:0.000   Kelly, Mr. James             :   2  \n",
              " Median :3.000   Median :0.000                                :   1  \n",
              " Mean   :2.295   Mean   :0.382   Abbing, Mr. Anthony          :   1  \n",
              " 3rd Qu.:3.000   3rd Qu.:1.000   Abbott, Master. Eugene Joseph:   1  \n",
              " Max.   :3.000   Max.   :1.000   Abbott, Mr. Rossmore Edward  :   1  \n",
              " NA's   :1       NA's   :1       (Other)                      :1302  \n",
              "     sex           age              sibsp            parch      \n",
              "       :  1   Min.   : 0.1667   Min.   :0.0000   Min.   :0.000  \n",
              " female:466   1st Qu.:21.0000   1st Qu.:0.0000   1st Qu.:0.000  \n",
              " male  :843   Median :28.0000   Median :0.0000   Median :0.000  \n",
              "              Mean   :29.8811   Mean   :0.4989   Mean   :0.385  \n",
              "              3rd Qu.:39.0000   3rd Qu.:1.0000   3rd Qu.:0.000  \n",
              "              Max.   :80.0000   Max.   :8.0000   Max.   :9.000  \n",
              "              NA's   :264       NA's   :1        NA's   :1      \n",
              "      ticket          fare                     cabin      embarked\n",
              " CA. 2343:  11   Min.   :  0.000                  :1015    :  3   \n",
              " 1601    :   8   1st Qu.:  7.896   C23 C25 C27    :   6   C:270   \n",
              " CA 2144 :   8   Median : 14.454   B57 B59 B63 B66:   5   Q:123   \n",
              " 3101295 :   7   Mean   : 33.295   G6             :   5   S:914   \n",
              " 347077  :   7   3rd Qu.: 31.275   B96 B98        :   4           \n",
              " 347082  :   7   Max.   :512.329   C22 C26        :   4           \n",
              " (Other) :1262   NA's   :2         (Other)        : 271           "
            ]
          },
          "metadata": {
            "tags": []
          }
        }
      ]
    },
    {
      "cell_type": "code",
      "metadata": {
        "id": "nHk7EBJnUnoC",
        "colab_type": "code",
        "colab": {
          "base_uri": "https://localhost:8080/",
          "height": 34
        },
        "outputId": "2f6ac743-a16d-4b20-da4c-7f1faacad3c5"
      },
      "source": [
        "colSums(is.na(titanic))"
      ],
      "execution_count": null,
      "outputs": [
        {
          "output_type": "display_data",
          "data": {
            "text/plain": [
              "  pclass survived     name      sex      age    sibsp    parch   ticket \n",
              "       1        1        0        0      264        1        1        0 \n",
              "    fare    cabin embarked \n",
              "       2        0        0 "
            ],
            "text/latex": "\\begin{description*}\n\\item[pclass] 1\n\\item[survived] 1\n\\item[name] 0\n\\item[sex] 0\n\\item[age] 264\n\\item[sibsp] 1\n\\item[parch] 1\n\\item[ticket] 0\n\\item[fare] 2\n\\item[cabin] 0\n\\item[embarked] 0\n\\end{description*}\n",
            "text/markdown": "pclass\n:   1survived\n:   1name\n:   0sex\n:   0age\n:   264sibsp\n:   1parch\n:   1ticket\n:   0fare\n:   2cabin\n:   0embarked\n:   0\n\n",
            "text/html": [
              "<style>\n",
              ".dl-inline {width: auto; margin:0; padding: 0}\n",
              ".dl-inline>dt, .dl-inline>dd {float: none; width: auto; display: inline-block}\n",
              ".dl-inline>dt::after {content: \":\\0020\"; padding-right: .5ex}\n",
              ".dl-inline>dt:not(:first-of-type) {padding-left: .5ex}\n",
              "</style><dl class=dl-inline><dt>pclass</dt><dd>1</dd><dt>survived</dt><dd>1</dd><dt>name</dt><dd>0</dd><dt>sex</dt><dd>0</dd><dt>age</dt><dd>264</dd><dt>sibsp</dt><dd>1</dd><dt>parch</dt><dd>1</dd><dt>ticket</dt><dd>0</dd><dt>fare</dt><dd>2</dd><dt>cabin</dt><dd>0</dd><dt>embarked</dt><dd>0</dd></dl>\n"
            ]
          },
          "metadata": {
            "tags": []
          }
        }
      ]
    },
    {
      "cell_type": "code",
      "metadata": {
        "id": "ZJh0YP9ZaACA",
        "colab_type": "code",
        "colab": {}
      },
      "source": [
        "titanic <- read.csv('https://raw.githubusercontent.com/siestageek/R_statstics/master/datasets/titanic.csv')"
      ],
      "execution_count": null,
      "outputs": []
    },
    {
      "cell_type": "code",
      "metadata": {
        "id": "fOSk09Diagn3",
        "colab_type": "code",
        "colab": {
          "base_uri": "https://localhost:8080/",
          "height": 437
        },
        "outputId": "43e28f67-4fa7-4fae-ee2d-321412bf1b9c"
      },
      "source": [
        "frq_surv <- table(titanic$survived)\n",
        "barplot(frq_surv)"
      ],
      "execution_count": null,
      "outputs": [
        {
          "output_type": "display_data",
          "data": {
            "image/png": "[encoded data removed]",
            "text/plain": [
              "plot without title"
            ]
          },
          "metadata": {
            "tags": [],
            "image/png": {
              "width": 420,
              "height": 420
            }
          }
        }
      ]
    },
    {
      "cell_type": "code",
      "metadata": {
        "id": "WTG-22gnckwa",
        "colab_type": "code",
        "colab": {
          "base_uri": "https://localhost:8080/",
          "height": 437
        },
        "outputId": "c2dd3ca3-b767-473f-8b33-154f0e4e2329"
      },
      "source": [
        "hist(titanic$age)"
      ],
      "execution_count": null,
      "outputs": [
        {
          "output_type": "display_data",
          "data": {
            "image/png": "[encoded data removed]",
            "text/plain": [
              "Plot with title “Histogram of titanic$age”"
            ]
          },
          "metadata": {
            "tags": [],
            "image/png": {
              "width": 420,
              "height": 420
            }
          }
        }
      ]
    },
    {
      "cell_type": "code",
      "metadata": {
        "id": "CMsHznFJxiwp",
        "colab_type": "code",
        "colab": {
          "base_uri": "https://localhost:8080/",
          "height": 197
        },
        "outputId": "0d587b6c-fe67-4700-9ac2-0dee359d4186"
      },
      "source": [
        "olympic <- read.csv('https://raw.githubusercontent.com/kjoonp/R_statistics/master/dataset_2')\n",
        "str (olympic)"
      ],
      "execution_count": 3,
      "outputs": [
        {
          "output_type": "stream",
          "text": [
            "'data.frame':\t31165 obs. of  9 variables:\n",
            " $ Year      : int  1896 1896 1896 1896 1896 1896 1896 1896 1896 1896 ...\n",
            " $ City      : Factor w/ 22 levels \"Amsterdam\",\"Antwerp\",..: 3 3 3 3 3 3 3 3 3 3 ...\n",
            " $ Sport     : Factor w/ 43 levels \"Aquatics\",\"Archery\",..: 1 1 1 1 1 1 1 1 1 1 ...\n",
            " $ Discipline: Factor w/ 67 levels \"Archery\",\"Artistic G.\",..: 50 50 50 50 50 50 50 50 50 50 ...\n",
            " $ Athlete   : Factor w/ 22762 levels \"AABYE, Edgar\",..: 7412 8021 4894 12438 3157 3339 7412 503 3339 14271 ...\n",
            " $ Country   : Factor w/ 148 levels \"\",\"AFG\",\"AHO\",..: 60 9 54 54 54 54 60 54 54 9 ...\n",
            " $ Gender    : Factor w/ 2 levels \"Men\",\"Women\": 1 1 1 1 1 1 1 1 1 1 ...\n",
            " $ Event     : Factor w/ 666 levels \"- 47.63KG (Flyweight)\",..: 79 79 80 80 80 105 105 105 162 162 ...\n",
            " $ Medal     : Factor w/ 3 levels \"Bronze\",\"Gold\",..: 2 3 1 2 3 1 2 3 1 2 ...\n"
          ],
          "name": "stdout"
        }
      ]
    }
  ]
}