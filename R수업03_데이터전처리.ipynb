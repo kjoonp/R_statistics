{
  "nbformat": 4,
  "nbformat_minor": 0,
  "metadata": {
    "colab": {
      "name": "R수업03_데이터전처리.ipynb",
      "provenance": [],
      "collapsed_sections": [],
      "authorship_tag": "ABX9TyNnGtv/mUSpBHX4JhR5LvmX",
      "include_colab_link": true
    },
    "kernelspec": {
      "name": "ir",
      "display_name": "R"
    }
  },
  "cells": [
    {
      "cell_type": "markdown",
      "metadata": {
        "id": "view-in-github",
        "colab_type": "text"
      },
      "source": [
        "<a href=\"https://colab.research.google.com/github/kjoonp/R_statistics/blob/master/R%EC%88%98%EC%97%8503_%EB%8D%B0%EC%9D%B4%ED%84%B0%EC%A0%84%EC%B2%98%EB%A6%AC.ipynb\" target=\"_parent\"><img src=\"https://colab.research.google.com/assets/colab-badge.svg\" alt=\"Open In Colab\"/></a>"
      ]
    },
    {
      "cell_type": "code",
      "metadata": {
        "id": "SEUDoIzq1LKc",
        "outputId": "61fa52ab-85de-4e94-8ae5-04aa21592b1b",
        "colab": {
          "base_uri": "https://localhost:8080/",
          "height": 247
        }
      },
      "source": [
        "#타이타닉 데이터 불러오기\n",
        "titanic <- read.csv ('https://raw.githubusercontent.com/siestageek/R_statstics/master/datasets/titanic.csv')\n",
        "head (titanic,10)"
      ],
      "execution_count": null,
      "outputs": [
        {
          "output_type": "display_data",
          "data": {
            "text/plain": [
              "   pclass survived name                                            sex   \n",
              "1  1      1        Allen, Miss. Elisabeth Walton                   female\n",
              "2  1      1        Allison, Master. Hudson Trevor                  male  \n",
              "3  1      0        Allison, Miss. Helen Loraine                    female\n",
              "4  1      0        Allison, Mr. Hudson Joshua Creighton            male  \n",
              "5  1      0        Allison, Mrs. Hudson J C (Bessie Waldo Daniels) female\n",
              "6  1      1        Anderson, Mr. Harry                             male  \n",
              "7  1      1        Andrews, Miss. Kornelia Theodosia               female\n",
              "8  1      0        Andrews, Mr. Thomas Jr                          male  \n",
              "9  1      1        Appleton, Mrs. Edward Dale (Charlotte Lamson)   female\n",
              "10 1      0        Artagaveytia, Mr. Ramon                         male  \n",
              "   age     sibsp parch ticket   fare     cabin   embarked\n",
              "1  29.0000 0     0     24160    211.3375 B5      S       \n",
              "2   0.9167 1     2     113781   151.5500 C22 C26 S       \n",
              "3   2.0000 1     2     113781   151.5500 C22 C26 S       \n",
              "4  30.0000 1     2     113781   151.5500 C22 C26 S       \n",
              "5  25.0000 1     2     113781   151.5500 C22 C26 S       \n",
              "6  48.0000 0     0     19952     26.5500 E12     S       \n",
              "7  63.0000 1     0     13502     77.9583 D7      S       \n",
              "8  39.0000 0     0     112050     0.0000 A36     S       \n",
              "9  53.0000 2     0     11769     51.4792 C101    S       \n",
              "10 71.0000 0     0     PC 17609  49.5042         C       "
            ],
            "text/latex": "A data.frame: 10 × 11\n\\begin{tabular}{r|lllllllllll}\n  & pclass & survived & name & sex & age & sibsp & parch & ticket & fare & cabin & embarked\\\\\n  & <int> & <int> & <fct> & <fct> & <dbl> & <int> & <int> & <fct> & <dbl> & <fct> & <fct>\\\\\n\\hline\n\t1 & 1 & 1 & Allen, Miss. Elisabeth Walton                   & female & 29.0000 & 0 & 0 & 24160    & 211.3375 & B5      & S\\\\\n\t2 & 1 & 1 & Allison, Master. Hudson Trevor                  & male   &  0.9167 & 1 & 2 & 113781   & 151.5500 & C22 C26 & S\\\\\n\t3 & 1 & 0 & Allison, Miss. Helen Loraine                    & female &  2.0000 & 1 & 2 & 113781   & 151.5500 & C22 C26 & S\\\\\n\t4 & 1 & 0 & Allison, Mr. Hudson Joshua Creighton            & male   & 30.0000 & 1 & 2 & 113781   & 151.5500 & C22 C26 & S\\\\\n\t5 & 1 & 0 & Allison, Mrs. Hudson J C (Bessie Waldo Daniels) & female & 25.0000 & 1 & 2 & 113781   & 151.5500 & C22 C26 & S\\\\\n\t6 & 1 & 1 & Anderson, Mr. Harry                             & male   & 48.0000 & 0 & 0 & 19952    &  26.5500 & E12     & S\\\\\n\t7 & 1 & 1 & Andrews, Miss. Kornelia Theodosia               & female & 63.0000 & 1 & 0 & 13502    &  77.9583 & D7      & S\\\\\n\t8 & 1 & 0 & Andrews, Mr. Thomas Jr                          & male   & 39.0000 & 0 & 0 & 112050   &   0.0000 & A36     & S\\\\\n\t9 & 1 & 1 & Appleton, Mrs. Edward Dale (Charlotte Lamson)   & female & 53.0000 & 2 & 0 & 11769    &  51.4792 & C101    & S\\\\\n\t10 & 1 & 0 & Artagaveytia, Mr. Ramon                         & male   & 71.0000 & 0 & 0 & PC 17609 &  49.5042 &         & C\\\\\n\\end{tabular}\n",
            "text/markdown": "\nA data.frame: 10 × 11\n\n| <!--/--> | pclass &lt;int&gt; | survived &lt;int&gt; | name &lt;fct&gt; | sex &lt;fct&gt; | age &lt;dbl&gt; | sibsp &lt;int&gt; | parch &lt;int&gt; | ticket &lt;fct&gt; | fare &lt;dbl&gt; | cabin &lt;fct&gt; | embarked &lt;fct&gt; |\n|---|---|---|---|---|---|---|---|---|---|---|---|\n| 1 | 1 | 1 | Allen, Miss. Elisabeth Walton                   | female | 29.0000 | 0 | 0 | 24160    | 211.3375 | B5      | S |\n| 2 | 1 | 1 | Allison, Master. Hudson Trevor                  | male   |  0.9167 | 1 | 2 | 113781   | 151.5500 | C22 C26 | S |\n| 3 | 1 | 0 | Allison, Miss. Helen Loraine                    | female |  2.0000 | 1 | 2 | 113781   | 151.5500 | C22 C26 | S |\n| 4 | 1 | 0 | Allison, Mr. Hudson Joshua Creighton            | male   | 30.0000 | 1 | 2 | 113781   | 151.5500 | C22 C26 | S |\n| 5 | 1 | 0 | Allison, Mrs. Hudson J C (Bessie Waldo Daniels) | female | 25.0000 | 1 | 2 | 113781   | 151.5500 | C22 C26 | S |\n| 6 | 1 | 1 | Anderson, Mr. Harry                             | male   | 48.0000 | 0 | 0 | 19952    |  26.5500 | E12     | S |\n| 7 | 1 | 1 | Andrews, Miss. Kornelia Theodosia               | female | 63.0000 | 1 | 0 | 13502    |  77.9583 | D7      | S |\n| 8 | 1 | 0 | Andrews, Mr. Thomas Jr                          | male   | 39.0000 | 0 | 0 | 112050   |   0.0000 | A36     | S |\n| 9 | 1 | 1 | Appleton, Mrs. Edward Dale (Charlotte Lamson)   | female | 53.0000 | 2 | 0 | 11769    |  51.4792 | C101    | S |\n| 10 | 1 | 0 | Artagaveytia, Mr. Ramon                         | male   | 71.0000 | 0 | 0 | PC 17609 |  49.5042 | <!----> | C |\n\n",
            "text/html": [
              "<table>\n",
              "<caption>A data.frame: 10 × 11</caption>\n",
              "<thead>\n",
              "\t<tr><th></th><th scope=col>pclass</th><th scope=col>survived</th><th scope=col>name</th><th scope=col>sex</th><th scope=col>age</th><th scope=col>sibsp</th><th scope=col>parch</th><th scope=col>ticket</th><th scope=col>fare</th><th scope=col>cabin</th><th scope=col>embarked</th></tr>\n",
              "\t<tr><th></th><th scope=col>&lt;int&gt;</th><th scope=col>&lt;int&gt;</th><th scope=col>&lt;fct&gt;</th><th scope=col>&lt;fct&gt;</th><th scope=col>&lt;dbl&gt;</th><th scope=col>&lt;int&gt;</th><th scope=col>&lt;int&gt;</th><th scope=col>&lt;fct&gt;</th><th scope=col>&lt;dbl&gt;</th><th scope=col>&lt;fct&gt;</th><th scope=col>&lt;fct&gt;</th></tr>\n",
              "</thead>\n",
              "<tbody>\n",
              "\t<tr><th scope=row>1</th><td>1</td><td>1</td><td>Allen, Miss. Elisabeth Walton                  </td><td>female</td><td>29.0000</td><td>0</td><td>0</td><td>24160   </td><td>211.3375</td><td>B5     </td><td>S</td></tr>\n",
              "\t<tr><th scope=row>2</th><td>1</td><td>1</td><td>Allison, Master. Hudson Trevor                 </td><td>male  </td><td> 0.9167</td><td>1</td><td>2</td><td>113781  </td><td>151.5500</td><td>C22 C26</td><td>S</td></tr>\n",
              "\t<tr><th scope=row>3</th><td>1</td><td>0</td><td>Allison, Miss. Helen Loraine                   </td><td>female</td><td> 2.0000</td><td>1</td><td>2</td><td>113781  </td><td>151.5500</td><td>C22 C26</td><td>S</td></tr>\n",
              "\t<tr><th scope=row>4</th><td>1</td><td>0</td><td>Allison, Mr. Hudson Joshua Creighton           </td><td>male  </td><td>30.0000</td><td>1</td><td>2</td><td>113781  </td><td>151.5500</td><td>C22 C26</td><td>S</td></tr>\n",
              "\t<tr><th scope=row>5</th><td>1</td><td>0</td><td>Allison, Mrs. Hudson J C (Bessie Waldo Daniels)</td><td>female</td><td>25.0000</td><td>1</td><td>2</td><td>113781  </td><td>151.5500</td><td>C22 C26</td><td>S</td></tr>\n",
              "\t<tr><th scope=row>6</th><td>1</td><td>1</td><td>Anderson, Mr. Harry                            </td><td>male  </td><td>48.0000</td><td>0</td><td>0</td><td>19952   </td><td> 26.5500</td><td>E12    </td><td>S</td></tr>\n",
              "\t<tr><th scope=row>7</th><td>1</td><td>1</td><td>Andrews, Miss. Kornelia Theodosia              </td><td>female</td><td>63.0000</td><td>1</td><td>0</td><td>13502   </td><td> 77.9583</td><td>D7     </td><td>S</td></tr>\n",
              "\t<tr><th scope=row>8</th><td>1</td><td>0</td><td>Andrews, Mr. Thomas Jr                         </td><td>male  </td><td>39.0000</td><td>0</td><td>0</td><td>112050  </td><td>  0.0000</td><td>A36    </td><td>S</td></tr>\n",
              "\t<tr><th scope=row>9</th><td>1</td><td>1</td><td>Appleton, Mrs. Edward Dale (Charlotte Lamson)  </td><td>female</td><td>53.0000</td><td>2</td><td>0</td><td>11769   </td><td> 51.4792</td><td>C101   </td><td>S</td></tr>\n",
              "\t<tr><th scope=row>10</th><td>1</td><td>0</td><td>Artagaveytia, Mr. Ramon                        </td><td>male  </td><td>71.0000</td><td>0</td><td>0</td><td>PC 17609</td><td> 49.5042</td><td>       </td><td>C</td></tr>\n",
              "</tbody>\n",
              "</table>\n"
            ]
          },
          "metadata": {
            "tags": []
          }
        }
      ]
    },
    {
      "cell_type": "code",
      "metadata": {
        "id": "iYeKfVFn440U",
        "outputId": "676d0e84-bfd9-40ae-ede1-d68886863e73",
        "colab": {
          "base_uri": "https://localhost:8080/",
          "height": 673
        }
      },
      "source": [
        "str(titanic) # 데이터 구조파악\n",
        "summary(titanic) # 요약통계\n",
        "colSums(is.na(titanic)) # 결측치 확인"
      ],
      "execution_count": null,
      "outputs": [
        {
          "output_type": "stream",
          "text": [
            "'data.frame':\t1310 obs. of  11 variables:\n",
            " $ pclass  : int  1 1 1 1 1 1 1 1 1 1 ...\n",
            " $ survived: int  1 1 0 0 0 1 1 0 1 0 ...\n",
            " $ name    : Factor w/ 1308 levels \"\",\"Abbing, Mr. Anthony\",..: 23 25 26 27 28 32 47 48 52 56 ...\n",
            " $ sex     : Factor w/ 3 levels \"\",\"female\",\"male\": 2 3 2 3 2 3 2 3 2 3 ...\n",
            " $ age     : num  29 0.917 2 30 25 ...\n",
            " $ sibsp   : int  0 1 1 1 1 0 1 0 2 0 ...\n",
            " $ parch   : int  0 2 2 2 2 0 0 0 0 0 ...\n",
            " $ ticket  : Factor w/ 930 levels \"\",\"110152\",\"110413\",..: 189 51 51 51 51 126 94 17 78 827 ...\n",
            " $ fare    : num  211 152 152 152 152 ...\n",
            " $ cabin   : Factor w/ 187 levels \"\",\"A10\",\"A11\",..: 45 81 81 81 81 151 147 17 63 1 ...\n",
            " $ embarked: Factor w/ 4 levels \"\",\"C\",\"Q\",\"S\": 4 4 4 4 4 4 4 4 4 2 ...\n"
          ],
          "name": "stdout"
        },
        {
          "output_type": "display_data",
          "data": {
            "text/plain": [
              "     pclass         survived                                name     \n",
              " Min.   :1.000   Min.   :0.000   Connolly, Miss. Kate         :   2  \n",
              " 1st Qu.:2.000   1st Qu.:0.000   Kelly, Mr. James             :   2  \n",
              " Median :3.000   Median :0.000                                :   1  \n",
              " Mean   :2.295   Mean   :0.382   Abbing, Mr. Anthony          :   1  \n",
              " 3rd Qu.:3.000   3rd Qu.:1.000   Abbott, Master. Eugene Joseph:   1  \n",
              " Max.   :3.000   Max.   :1.000   Abbott, Mr. Rossmore Edward  :   1  \n",
              " NA's   :1       NA's   :1       (Other)                      :1302  \n",
              "     sex           age              sibsp            parch      \n",
              "       :  1   Min.   : 0.1667   Min.   :0.0000   Min.   :0.000  \n",
              " female:466   1st Qu.:21.0000   1st Qu.:0.0000   1st Qu.:0.000  \n",
              " male  :843   Median :28.0000   Median :0.0000   Median :0.000  \n",
              "              Mean   :29.8811   Mean   :0.4989   Mean   :0.385  \n",
              "              3rd Qu.:39.0000   3rd Qu.:1.0000   3rd Qu.:0.000  \n",
              "              Max.   :80.0000   Max.   :8.0000   Max.   :9.000  \n",
              "              NA's   :264       NA's   :1        NA's   :1      \n",
              "      ticket          fare                     cabin      embarked\n",
              " CA. 2343:  11   Min.   :  0.000                  :1015    :  3   \n",
              " 1601    :   8   1st Qu.:  7.896   C23 C25 C27    :   6   C:270   \n",
              " CA 2144 :   8   Median : 14.454   B57 B59 B63 B66:   5   Q:123   \n",
              " 3101295 :   7   Mean   : 33.295   G6             :   5   S:914   \n",
              " 347077  :   7   3rd Qu.: 31.275   B96 B98        :   4           \n",
              " 347082  :   7   Max.   :512.329   C22 C26        :   4           \n",
              " (Other) :1262   NA's   :2         (Other)        : 271           "
            ]
          },
          "metadata": {
            "tags": []
          }
        },
        {
          "output_type": "display_data",
          "data": {
            "text/plain": [
              "  pclass survived     name      sex      age    sibsp    parch   ticket \n",
              "       1        1        0        0      264        1        1        0 \n",
              "    fare    cabin embarked \n",
              "       2        0        0 "
            ],
            "text/latex": "\\begin{description*}\n\\item[pclass] 1\n\\item[survived] 1\n\\item[name] 0\n\\item[sex] 0\n\\item[age] 264\n\\item[sibsp] 1\n\\item[parch] 1\n\\item[ticket] 0\n\\item[fare] 2\n\\item[cabin] 0\n\\item[embarked] 0\n\\end{description*}\n",
            "text/markdown": "pclass\n:   1survived\n:   1name\n:   0sex\n:   0age\n:   264sibsp\n:   1parch\n:   1ticket\n:   0fare\n:   2cabin\n:   0embarked\n:   0\n\n",
            "text/html": [
              "<style>\n",
              ".dl-inline {width: auto; margin:0; padding: 0}\n",
              ".dl-inline>dt, .dl-inline>dd {float: none; width: auto; display: inline-block}\n",
              ".dl-inline>dt::after {content: \":\\0020\"; padding-right: .5ex}\n",
              ".dl-inline>dt:not(:first-of-type) {padding-left: .5ex}\n",
              "</style><dl class=dl-inline><dt>pclass</dt><dd>1</dd><dt>survived</dt><dd>1</dd><dt>name</dt><dd>0</dd><dt>sex</dt><dd>0</dd><dt>age</dt><dd>264</dd><dt>sibsp</dt><dd>1</dd><dt>parch</dt><dd>1</dd><dt>ticket</dt><dd>0</dd><dt>fare</dt><dd>2</dd><dt>cabin</dt><dd>0</dd><dt>embarked</dt><dd>0</dd></dl>\n"
            ]
          },
          "metadata": {
            "tags": []
          }
        }
      ]
    },
    {
      "cell_type": "code",
      "metadata": {
        "id": "paJW0qzz5IJ8",
        "outputId": "568a39c2-8469-4e88-a4a7-be4fe3afd9ed",
        "colab": {
          "base_uri": "https://localhost:8080/",
          "height": 33
        }
      },
      "source": [
        "colSums(is.na(titanic)) # 결측치 확인"
      ],
      "execution_count": null,
      "outputs": [
        {
          "output_type": "display_data",
          "data": {
            "text/plain": [
              "  pclass survived     name      sex      age    sibsp    parch   ticket \n",
              "       1        1        0        0      264        1        1        0 \n",
              "    fare    cabin embarked \n",
              "       2        0        0 "
            ],
            "text/latex": "\\begin{description*}\n\\item[pclass] 1\n\\item[survived] 1\n\\item[name] 0\n\\item[sex] 0\n\\item[age] 264\n\\item[sibsp] 1\n\\item[parch] 1\n\\item[ticket] 0\n\\item[fare] 2\n\\item[cabin] 0\n\\item[embarked] 0\n\\end{description*}\n",
            "text/markdown": "pclass\n:   1survived\n:   1name\n:   0sex\n:   0age\n:   264sibsp\n:   1parch\n:   1ticket\n:   0fare\n:   2cabin\n:   0embarked\n:   0\n\n",
            "text/html": [
              "<style>\n",
              ".dl-inline {width: auto; margin:0; padding: 0}\n",
              ".dl-inline>dt, .dl-inline>dd {float: none; width: auto; display: inline-block}\n",
              ".dl-inline>dt::after {content: \":\\0020\"; padding-right: .5ex}\n",
              ".dl-inline>dt:not(:first-of-type) {padding-left: .5ex}\n",
              "</style><dl class=dl-inline><dt>pclass</dt><dd>1</dd><dt>survived</dt><dd>1</dd><dt>name</dt><dd>0</dd><dt>sex</dt><dd>0</dd><dt>age</dt><dd>264</dd><dt>sibsp</dt><dd>1</dd><dt>parch</dt><dd>1</dd><dt>ticket</dt><dd>0</dd><dt>fare</dt><dd>2</dd><dt>cabin</dt><dd>0</dd><dt>embarked</dt><dd>0</dd></dl>\n"
            ]
          },
          "metadata": {
            "tags": []
          }
        }
      ]
    },
    {
      "cell_type": "code",
      "metadata": {
        "id": "GOWUE-SD60xs",
        "outputId": "64956d9e-ba5a-4cb6-ad6b-640c1bbfca75",
        "colab": {
          "base_uri": "https://localhost:8080/",
          "height": 33
        }
      },
      "source": [
        "# 결측치 처리 1 - 제거\n",
        "# 결측치 제거 : na.omit()\n",
        "titanic2 <- na.omit(titanic)\n",
        "colSums (is.na(titanic2))"
      ],
      "execution_count": null,
      "outputs": [
        {
          "output_type": "display_data",
          "data": {
            "text/plain": [
              "  pclass survived     name      sex      age    sibsp    parch   ticket \n",
              "       0        0        0        0        0        0        0        0 \n",
              "    fare    cabin embarked \n",
              "       0        0        0 "
            ],
            "text/latex": "\\begin{description*}\n\\item[pclass] 0\n\\item[survived] 0\n\\item[name] 0\n\\item[sex] 0\n\\item[age] 0\n\\item[sibsp] 0\n\\item[parch] 0\n\\item[ticket] 0\n\\item[fare] 0\n\\item[cabin] 0\n\\item[embarked] 0\n\\end{description*}\n",
            "text/markdown": "pclass\n:   0survived\n:   0name\n:   0sex\n:   0age\n:   0sibsp\n:   0parch\n:   0ticket\n:   0fare\n:   0cabin\n:   0embarked\n:   0\n\n",
            "text/html": [
              "<style>\n",
              ".dl-inline {width: auto; margin:0; padding: 0}\n",
              ".dl-inline>dt, .dl-inline>dd {float: none; width: auto; display: inline-block}\n",
              ".dl-inline>dt::after {content: \":\\0020\"; padding-right: .5ex}\n",
              ".dl-inline>dt:not(:first-of-type) {padding-left: .5ex}\n",
              "</style><dl class=dl-inline><dt>pclass</dt><dd>0</dd><dt>survived</dt><dd>0</dd><dt>name</dt><dd>0</dd><dt>sex</dt><dd>0</dd><dt>age</dt><dd>0</dd><dt>sibsp</dt><dd>0</dd><dt>parch</dt><dd>0</dd><dt>ticket</dt><dd>0</dd><dt>fare</dt><dd>0</dd><dt>cabin</dt><dd>0</dd><dt>embarked</dt><dd>0</dd></dl>\n"
            ]
          },
          "metadata": {
            "tags": []
          }
        }
      ]
    },
    {
      "cell_type": "code",
      "metadata": {
        "id": "zoTFyv5U7juq",
        "outputId": "58178243-4086-4fa0-af3b-177674dcba3e",
        "colab": {
          "base_uri": "https://localhost:8080/",
          "height": 33
        }
      },
      "source": [
        "# 결측치 처리 2 - 대체값\n",
        "# age의 결측치는 중앙값으로 대체\n",
        "# 소수점 이하 처리 : round, floor (내림), ceil(올림)\n",
        "mv <- floor(median(titanic$age, na.rm=T))\n",
        "mv "
      ],
      "execution_count": null,
      "outputs": [
        {
          "output_type": "display_data",
          "data": {
            "text/plain": [
              "[1] 28"
            ],
            "text/latex": "28",
            "text/markdown": "28",
            "text/html": [
              "28"
            ]
          },
          "metadata": {
            "tags": []
          }
        }
      ]
    },
    {
      "cell_type": "code",
      "metadata": {
        "id": "ujk2W0JE85S0",
        "outputId": "8a7d0e0c-cdb8-4cca-8595-756ae70f7cdb",
        "colab": {
          "base_uri": "https://localhost:8080/",
          "height": 183
        }
      },
      "source": [
        "# titanic$age[]  <- mv # 모든 나이컬럼에 중앙값 대입은 안됨\n",
        "is.na(titanic$age) #age컬럼의 결측치 여부 확인"
      ],
      "execution_count": null,
      "outputs": [
        {
          "output_type": "display_data",
          "data": {
            "text/plain": [
              "   [1] FALSE FALSE FALSE FALSE FALSE FALSE FALSE FALSE FALSE FALSE FALSE FALSE\n",
              "  [13] FALSE FALSE FALSE  TRUE FALSE FALSE FALSE FALSE FALSE FALSE FALSE FALSE\n",
              "  [25] FALSE FALSE FALSE FALSE FALSE FALSE FALSE FALSE FALSE FALSE FALSE FALSE\n",
              "  [37] FALSE  TRUE FALSE FALSE  TRUE FALSE FALSE FALSE FALSE FALSE  TRUE FALSE\n",
              "  [49] FALSE FALSE FALSE FALSE FALSE FALSE FALSE FALSE FALSE FALSE FALSE  TRUE\n",
              "  [61] FALSE FALSE FALSE FALSE FALSE FALSE FALSE FALSE FALSE  TRUE  TRUE FALSE\n",
              "  [73] FALSE FALSE  TRUE FALSE FALSE FALSE FALSE FALSE  TRUE FALSE FALSE FALSE\n",
              "  [85] FALSE FALSE FALSE FALSE FALSE FALSE FALSE FALSE FALSE FALSE FALSE FALSE\n",
              "  [97] FALSE FALSE FALSE FALSE FALSE FALSE FALSE FALSE FALSE FALSE  TRUE  TRUE\n",
              " [109]  TRUE FALSE FALSE FALSE FALSE FALSE FALSE FALSE FALSE FALSE  TRUE FALSE\n",
              " [121] FALSE  TRUE FALSE FALSE FALSE  TRUE FALSE FALSE FALSE FALSE FALSE FALSE\n",
              " [133] FALSE FALSE  TRUE FALSE FALSE FALSE FALSE FALSE FALSE FALSE FALSE FALSE\n",
              " [145] FALSE FALSE FALSE  TRUE FALSE FALSE FALSE FALSE  TRUE FALSE FALSE FALSE\n",
              " [157] FALSE  TRUE FALSE FALSE FALSE FALSE FALSE FALSE FALSE FALSE  TRUE FALSE\n",
              " [169] FALSE FALSE FALSE FALSE FALSE FALSE FALSE FALSE  TRUE FALSE FALSE  TRUE\n",
              " [181] FALSE FALSE FALSE FALSE  TRUE FALSE FALSE FALSE FALSE FALSE FALSE FALSE\n",
              " [193] FALSE FALSE FALSE FALSE  TRUE FALSE FALSE FALSE FALSE FALSE FALSE FALSE\n",
              " [205]  TRUE FALSE FALSE FALSE FALSE FALSE FALSE FALSE FALSE FALSE FALSE FALSE\n",
              " [217] FALSE FALSE FALSE  TRUE FALSE FALSE FALSE  TRUE FALSE FALSE FALSE FALSE\n",
              " [229] FALSE FALSE FALSE FALSE FALSE FALSE FALSE  TRUE FALSE  TRUE FALSE FALSE\n",
              " [241] FALSE  TRUE FALSE FALSE FALSE FALSE FALSE FALSE FALSE FALSE FALSE FALSE\n",
              " [253] FALSE FALSE  TRUE FALSE  TRUE FALSE FALSE FALSE FALSE FALSE FALSE FALSE\n",
              " [265] FALSE FALSE FALSE FALSE FALSE  TRUE FALSE FALSE FALSE FALSE FALSE FALSE\n",
              " [277] FALSE  TRUE FALSE FALSE FALSE FALSE FALSE  TRUE FALSE FALSE FALSE FALSE\n",
              " [289] FALSE FALSE FALSE FALSE FALSE  TRUE FALSE FALSE FALSE  TRUE FALSE FALSE\n",
              " [301] FALSE FALSE FALSE FALSE FALSE FALSE FALSE FALSE FALSE FALSE FALSE FALSE\n",
              " [313] FALSE FALSE FALSE FALSE FALSE FALSE  TRUE FALSE  TRUE FALSE FALSE FALSE\n",
              " [325] FALSE FALSE FALSE FALSE FALSE FALSE FALSE FALSE FALSE FALSE FALSE FALSE\n",
              " [337] FALSE FALSE FALSE FALSE FALSE FALSE FALSE FALSE FALSE FALSE FALSE FALSE\n",
              " [349] FALSE FALSE FALSE FALSE FALSE FALSE FALSE FALSE FALSE FALSE FALSE FALSE\n",
              " [361] FALSE FALSE FALSE  TRUE FALSE FALSE FALSE FALSE FALSE FALSE FALSE FALSE\n",
              " [373] FALSE FALSE FALSE FALSE FALSE FALSE FALSE FALSE FALSE FALSE  TRUE FALSE\n",
              " [385]  TRUE FALSE FALSE FALSE FALSE FALSE FALSE FALSE FALSE FALSE FALSE FALSE\n",
              " [397] FALSE FALSE FALSE FALSE FALSE FALSE FALSE FALSE FALSE FALSE FALSE FALSE\n",
              " [409] FALSE FALSE  TRUE FALSE FALSE FALSE FALSE FALSE FALSE FALSE FALSE FALSE\n",
              " [421] FALSE FALSE FALSE FALSE FALSE FALSE FALSE FALSE FALSE FALSE FALSE FALSE\n",
              " [433] FALSE FALSE FALSE FALSE FALSE FALSE FALSE FALSE FALSE FALSE FALSE FALSE\n",
              " [445] FALSE FALSE FALSE FALSE FALSE FALSE FALSE FALSE FALSE FALSE FALSE FALSE\n",
              " [457] FALSE FALSE FALSE FALSE FALSE FALSE FALSE FALSE FALSE FALSE FALSE FALSE\n",
              " [469] FALSE  TRUE FALSE FALSE FALSE  TRUE FALSE FALSE FALSE  TRUE FALSE FALSE\n",
              " [481] FALSE FALSE FALSE  TRUE FALSE FALSE FALSE FALSE FALSE FALSE FALSE  TRUE\n",
              " [493] FALSE FALSE FALSE  TRUE FALSE FALSE FALSE FALSE FALSE FALSE FALSE FALSE\n",
              " [505] FALSE FALSE FALSE FALSE FALSE FALSE FALSE FALSE FALSE FALSE FALSE FALSE\n",
              " [517] FALSE FALSE FALSE FALSE FALSE FALSE FALSE FALSE  TRUE FALSE FALSE FALSE\n",
              " [529]  TRUE FALSE FALSE  TRUE FALSE FALSE FALSE FALSE FALSE FALSE FALSE FALSE\n",
              " [541] FALSE FALSE FALSE FALSE FALSE FALSE FALSE FALSE FALSE FALSE FALSE FALSE\n",
              " [553] FALSE FALSE FALSE FALSE FALSE FALSE FALSE FALSE FALSE FALSE FALSE FALSE\n",
              " [565] FALSE FALSE FALSE FALSE FALSE FALSE FALSE FALSE FALSE FALSE FALSE FALSE\n",
              " [577] FALSE FALSE FALSE FALSE FALSE  TRUE FALSE FALSE FALSE FALSE FALSE FALSE\n",
              " [589] FALSE FALSE FALSE FALSE FALSE FALSE FALSE  TRUE FALSE  TRUE FALSE FALSE\n",
              " [601] FALSE FALSE FALSE FALSE FALSE FALSE FALSE FALSE FALSE FALSE FALSE FALSE\n",
              " [613] FALSE FALSE FALSE FALSE FALSE FALSE FALSE FALSE FALSE FALSE FALSE FALSE\n",
              " [625] FALSE FALSE FALSE FALSE FALSE FALSE FALSE FALSE FALSE FALSE FALSE FALSE\n",
              " [637] FALSE FALSE FALSE FALSE FALSE FALSE FALSE FALSE FALSE FALSE FALSE FALSE\n",
              " [649] FALSE FALSE FALSE FALSE FALSE FALSE FALSE FALSE FALSE FALSE FALSE FALSE\n",
              " [661] FALSE FALSE FALSE FALSE FALSE FALSE FALSE FALSE FALSE FALSE FALSE FALSE\n",
              " [673]  TRUE FALSE FALSE FALSE FALSE FALSE FALSE FALSE  TRUE  TRUE  TRUE FALSE\n",
              " [685] FALSE FALSE FALSE FALSE FALSE FALSE FALSE FALSE FALSE FALSE FALSE FALSE\n",
              " [697] FALSE FALSE FALSE FALSE FALSE FALSE FALSE FALSE FALSE  TRUE  TRUE FALSE\n",
              " [709] FALSE FALSE FALSE FALSE FALSE FALSE FALSE FALSE FALSE FALSE FALSE FALSE\n",
              " [721] FALSE FALSE FALSE FALSE FALSE FALSE FALSE FALSE FALSE FALSE FALSE FALSE\n",
              " [733] FALSE FALSE FALSE FALSE FALSE FALSE FALSE FALSE FALSE FALSE FALSE FALSE\n",
              " [745] FALSE FALSE FALSE FALSE FALSE FALSE FALSE FALSE FALSE FALSE FALSE FALSE\n",
              " [757]  TRUE  TRUE FALSE FALSE FALSE FALSE FALSE FALSE FALSE FALSE FALSE  TRUE\n",
              " [769]  TRUE FALSE FALSE FALSE FALSE FALSE FALSE  TRUE FALSE FALSE FALSE FALSE\n",
              " [781] FALSE FALSE FALSE FALSE FALSE FALSE FALSE FALSE FALSE  TRUE FALSE FALSE\n",
              " [793] FALSE FALSE FALSE  TRUE FALSE FALSE  TRUE FALSE  TRUE  TRUE  TRUE FALSE\n",
              " [805]  TRUE  TRUE FALSE FALSE  TRUE FALSE FALSE FALSE  TRUE  TRUE FALSE  TRUE\n",
              " [817]  TRUE FALSE FALSE  TRUE FALSE FALSE FALSE FALSE FALSE FALSE FALSE FALSE\n",
              " [829] FALSE FALSE FALSE FALSE FALSE FALSE FALSE  TRUE FALSE FALSE FALSE FALSE\n",
              " [841] FALSE FALSE  TRUE  TRUE FALSE FALSE FALSE FALSE FALSE FALSE FALSE FALSE\n",
              " [853]  TRUE FALSE  TRUE FALSE  TRUE FALSE  TRUE FALSE FALSE FALSE FALSE FALSE\n",
              " [865] FALSE  TRUE FALSE FALSE FALSE FALSE FALSE  TRUE  TRUE FALSE  TRUE FALSE\n",
              " [877]  TRUE FALSE FALSE  TRUE FALSE FALSE  TRUE FALSE FALSE FALSE  TRUE  TRUE\n",
              " [889] FALSE FALSE FALSE FALSE FALSE FALSE FALSE FALSE FALSE FALSE FALSE FALSE\n",
              " [901]  TRUE  TRUE  TRUE  TRUE FALSE FALSE FALSE FALSE FALSE FALSE FALSE FALSE\n",
              " [913] FALSE FALSE FALSE FALSE FALSE FALSE  TRUE FALSE  TRUE  TRUE  TRUE  TRUE\n",
              " [925] FALSE FALSE  TRUE  TRUE  TRUE  TRUE  TRUE  TRUE FALSE FALSE FALSE FALSE\n",
              " [937] FALSE FALSE FALSE FALSE  TRUE FALSE  TRUE FALSE  TRUE  TRUE  TRUE FALSE\n",
              " [949]  TRUE FALSE FALSE FALSE FALSE FALSE  TRUE  TRUE  TRUE  TRUE  TRUE FALSE\n",
              " [961] FALSE  TRUE  TRUE FALSE FALSE FALSE FALSE FALSE FALSE FALSE FALSE  TRUE\n",
              " [973] FALSE  TRUE FALSE FALSE  TRUE FALSE FALSE FALSE FALSE FALSE  TRUE  TRUE\n",
              " [985]  TRUE FALSE FALSE  TRUE  TRUE  TRUE FALSE  TRUE FALSE  TRUE  TRUE FALSE\n",
              " [997] FALSE  TRUE  TRUE  TRUE  TRUE  TRUE  TRUE  TRUE  TRUE  TRUE  TRUE FALSE\n",
              "[1009] FALSE  TRUE FALSE FALSE  TRUE  TRUE  TRUE FALSE  TRUE FALSE  TRUE FALSE\n",
              "[1021] FALSE FALSE  TRUE  TRUE FALSE FALSE FALSE  TRUE  TRUE  TRUE  TRUE FALSE\n",
              "[1033]  TRUE  TRUE  TRUE  TRUE  TRUE  TRUE  TRUE  TRUE FALSE  TRUE  TRUE  TRUE\n",
              "[1045]  TRUE FALSE FALSE FALSE FALSE FALSE FALSE FALSE  TRUE  TRUE  TRUE  TRUE\n",
              "[1057] FALSE FALSE FALSE FALSE FALSE FALSE FALSE FALSE FALSE FALSE FALSE FALSE\n",
              "[1069] FALSE  TRUE  TRUE  TRUE  TRUE  TRUE  TRUE FALSE  TRUE  TRUE  TRUE FALSE\n",
              "[1081]  TRUE  TRUE FALSE FALSE FALSE  TRUE FALSE FALSE FALSE FALSE FALSE FALSE\n",
              "[1093] FALSE FALSE FALSE  TRUE FALSE FALSE FALSE FALSE FALSE FALSE FALSE FALSE\n",
              "[1105] FALSE FALSE FALSE FALSE FALSE  TRUE FALSE FALSE FALSE FALSE  TRUE  TRUE\n",
              "[1117]  TRUE FALSE FALSE FALSE FALSE  TRUE  TRUE  TRUE  TRUE FALSE FALSE FALSE\n",
              "[1129]  TRUE FALSE FALSE FALSE  TRUE FALSE FALSE  TRUE  TRUE  TRUE  TRUE FALSE\n",
              "[1141] FALSE FALSE FALSE FALSE FALSE FALSE FALSE FALSE FALSE  TRUE  TRUE  TRUE\n",
              "[1153] FALSE FALSE  TRUE  TRUE FALSE FALSE FALSE  TRUE FALSE FALSE  TRUE  TRUE\n",
              "[1165]  TRUE FALSE  TRUE  TRUE  TRUE FALSE  TRUE FALSE  TRUE  TRUE  TRUE  TRUE\n",
              "[1177]  TRUE  TRUE  TRUE  TRUE  TRUE FALSE FALSE FALSE  TRUE  TRUE  TRUE FALSE\n",
              "[1189] FALSE FALSE FALSE FALSE FALSE  TRUE  TRUE  TRUE FALSE  TRUE  TRUE  TRUE\n",
              "[1201]  TRUE FALSE  TRUE FALSE FALSE FALSE FALSE FALSE FALSE FALSE FALSE FALSE\n",
              "[1213]  TRUE  TRUE  TRUE  TRUE  TRUE FALSE FALSE  TRUE FALSE  TRUE FALSE FALSE\n",
              "[1225] FALSE FALSE FALSE FALSE FALSE FALSE FALSE FALSE FALSE FALSE FALSE FALSE\n",
              "[1237] FALSE FALSE FALSE FALSE FALSE  TRUE  TRUE  TRUE FALSE  TRUE  TRUE  TRUE\n",
              "[1249] FALSE  TRUE  TRUE FALSE FALSE  TRUE FALSE  TRUE FALSE FALSE FALSE FALSE\n",
              "[1261] FALSE FALSE  TRUE FALSE FALSE FALSE FALSE FALSE  TRUE FALSE FALSE FALSE\n",
              "[1273] FALSE FALSE FALSE FALSE FALSE FALSE FALSE FALSE FALSE FALSE  TRUE  TRUE\n",
              "[1285]  TRUE FALSE FALSE FALSE FALSE FALSE FALSE  TRUE  TRUE  TRUE FALSE FALSE\n",
              "[1297] FALSE  TRUE FALSE FALSE FALSE FALSE  TRUE  TRUE FALSE  TRUE FALSE FALSE\n",
              "[1309] FALSE  TRUE"
            ],
            "text/latex": "\\begin{enumerate*}\n\\item FALSE\n\\item FALSE\n\\item FALSE\n\\item FALSE\n\\item FALSE\n\\item FALSE\n\\item FALSE\n\\item FALSE\n\\item FALSE\n\\item FALSE\n\\item FALSE\n\\item FALSE\n\\item FALSE\n\\item FALSE\n\\item FALSE\n\\item TRUE\n\\item FALSE\n\\item FALSE\n\\item FALSE\n\\item FALSE\n\\item FALSE\n\\item FALSE\n\\item FALSE\n\\item FALSE\n\\item FALSE\n\\item FALSE\n\\item FALSE\n\\item FALSE\n\\item FALSE\n\\item FALSE\n\\item FALSE\n\\item FALSE\n\\item FALSE\n\\item FALSE\n\\item FALSE\n\\item FALSE\n\\item FALSE\n\\item TRUE\n\\item FALSE\n\\item FALSE\n\\item TRUE\n\\item FALSE\n\\item FALSE\n\\item FALSE\n\\item FALSE\n\\item FALSE\n\\item TRUE\n\\item FALSE\n\\item FALSE\n\\item FALSE\n\\item FALSE\n\\item FALSE\n\\item FALSE\n\\item FALSE\n\\item FALSE\n\\item FALSE\n\\item FALSE\n\\item FALSE\n\\item FALSE\n\\item TRUE\n\\item FALSE\n\\item FALSE\n\\item FALSE\n\\item FALSE\n\\item FALSE\n\\item FALSE\n\\item FALSE\n\\item FALSE\n\\item FALSE\n\\item TRUE\n\\item TRUE\n\\item FALSE\n\\item FALSE\n\\item FALSE\n\\item TRUE\n\\item FALSE\n\\item FALSE\n\\item FALSE\n\\item FALSE\n\\item FALSE\n\\item TRUE\n\\item FALSE\n\\item FALSE\n\\item FALSE\n\\item FALSE\n\\item FALSE\n\\item FALSE\n\\item FALSE\n\\item FALSE\n\\item FALSE\n\\item FALSE\n\\item FALSE\n\\item FALSE\n\\item FALSE\n\\item FALSE\n\\item FALSE\n\\item FALSE\n\\item FALSE\n\\item FALSE\n\\item FALSE\n\\item FALSE\n\\item FALSE\n\\item FALSE\n\\item FALSE\n\\item FALSE\n\\item FALSE\n\\item TRUE\n\\item TRUE\n\\item TRUE\n\\item FALSE\n\\item FALSE\n\\item FALSE\n\\item FALSE\n\\item FALSE\n\\item FALSE\n\\item FALSE\n\\item FALSE\n\\item FALSE\n\\item TRUE\n\\item FALSE\n\\item FALSE\n\\item TRUE\n\\item FALSE\n\\item FALSE\n\\item FALSE\n\\item TRUE\n\\item FALSE\n\\item FALSE\n\\item FALSE\n\\item FALSE\n\\item FALSE\n\\item FALSE\n\\item FALSE\n\\item FALSE\n\\item TRUE\n\\item FALSE\n\\item FALSE\n\\item FALSE\n\\item FALSE\n\\item FALSE\n\\item FALSE\n\\item FALSE\n\\item FALSE\n\\item FALSE\n\\item FALSE\n\\item FALSE\n\\item FALSE\n\\item TRUE\n\\item FALSE\n\\item FALSE\n\\item FALSE\n\\item FALSE\n\\item TRUE\n\\item FALSE\n\\item FALSE\n\\item FALSE\n\\item FALSE\n\\item TRUE\n\\item FALSE\n\\item FALSE\n\\item FALSE\n\\item FALSE\n\\item FALSE\n\\item FALSE\n\\item FALSE\n\\item FALSE\n\\item TRUE\n\\item FALSE\n\\item FALSE\n\\item FALSE\n\\item FALSE\n\\item FALSE\n\\item FALSE\n\\item FALSE\n\\item FALSE\n\\item FALSE\n\\item TRUE\n\\item FALSE\n\\item FALSE\n\\item TRUE\n\\item FALSE\n\\item FALSE\n\\item FALSE\n\\item FALSE\n\\item TRUE\n\\item FALSE\n\\item FALSE\n\\item FALSE\n\\item FALSE\n\\item FALSE\n\\item FALSE\n\\item FALSE\n\\item FALSE\n\\item FALSE\n\\item FALSE\n\\item FALSE\n\\item TRUE\n\\item FALSE\n\\item FALSE\n\\item FALSE\n\\item ⋯\n\\item FALSE\n\\item FALSE\n\\item FALSE\n\\item FALSE\n\\item TRUE\n\\item TRUE\n\\item TRUE\n\\item FALSE\n\\item FALSE\n\\item FALSE\n\\item FALSE\n\\item TRUE\n\\item TRUE\n\\item TRUE\n\\item TRUE\n\\item FALSE\n\\item FALSE\n\\item FALSE\n\\item TRUE\n\\item FALSE\n\\item FALSE\n\\item FALSE\n\\item TRUE\n\\item FALSE\n\\item FALSE\n\\item TRUE\n\\item TRUE\n\\item TRUE\n\\item TRUE\n\\item FALSE\n\\item FALSE\n\\item FALSE\n\\item FALSE\n\\item FALSE\n\\item FALSE\n\\item FALSE\n\\item FALSE\n\\item FALSE\n\\item FALSE\n\\item TRUE\n\\item TRUE\n\\item TRUE\n\\item FALSE\n\\item FALSE\n\\item TRUE\n\\item TRUE\n\\item FALSE\n\\item FALSE\n\\item FALSE\n\\item TRUE\n\\item FALSE\n\\item FALSE\n\\item TRUE\n\\item TRUE\n\\item TRUE\n\\item FALSE\n\\item TRUE\n\\item TRUE\n\\item TRUE\n\\item FALSE\n\\item TRUE\n\\item FALSE\n\\item TRUE\n\\item TRUE\n\\item TRUE\n\\item TRUE\n\\item TRUE\n\\item TRUE\n\\item TRUE\n\\item TRUE\n\\item TRUE\n\\item FALSE\n\\item FALSE\n\\item FALSE\n\\item TRUE\n\\item TRUE\n\\item TRUE\n\\item FALSE\n\\item FALSE\n\\item FALSE\n\\item FALSE\n\\item FALSE\n\\item FALSE\n\\item TRUE\n\\item TRUE\n\\item TRUE\n\\item FALSE\n\\item TRUE\n\\item TRUE\n\\item TRUE\n\\item TRUE\n\\item FALSE\n\\item TRUE\n\\item FALSE\n\\item FALSE\n\\item FALSE\n\\item FALSE\n\\item FALSE\n\\item FALSE\n\\item FALSE\n\\item FALSE\n\\item FALSE\n\\item TRUE\n\\item TRUE\n\\item TRUE\n\\item TRUE\n\\item TRUE\n\\item FALSE\n\\item FALSE\n\\item TRUE\n\\item FALSE\n\\item TRUE\n\\item FALSE\n\\item FALSE\n\\item FALSE\n\\item FALSE\n\\item FALSE\n\\item FALSE\n\\item FALSE\n\\item FALSE\n\\item FALSE\n\\item FALSE\n\\item FALSE\n\\item FALSE\n\\item FALSE\n\\item FALSE\n\\item FALSE\n\\item FALSE\n\\item FALSE\n\\item FALSE\n\\item FALSE\n\\item TRUE\n\\item TRUE\n\\item TRUE\n\\item FALSE\n\\item TRUE\n\\item TRUE\n\\item TRUE\n\\item FALSE\n\\item TRUE\n\\item TRUE\n\\item FALSE\n\\item FALSE\n\\item TRUE\n\\item FALSE\n\\item TRUE\n\\item FALSE\n\\item FALSE\n\\item FALSE\n\\item FALSE\n\\item FALSE\n\\item FALSE\n\\item TRUE\n\\item FALSE\n\\item FALSE\n\\item FALSE\n\\item FALSE\n\\item FALSE\n\\item TRUE\n\\item FALSE\n\\item FALSE\n\\item FALSE\n\\item FALSE\n\\item FALSE\n\\item FALSE\n\\item FALSE\n\\item FALSE\n\\item FALSE\n\\item FALSE\n\\item FALSE\n\\item FALSE\n\\item FALSE\n\\item TRUE\n\\item TRUE\n\\item TRUE\n\\item FALSE\n\\item FALSE\n\\item FALSE\n\\item FALSE\n\\item FALSE\n\\item FALSE\n\\item TRUE\n\\item TRUE\n\\item TRUE\n\\item FALSE\n\\item FALSE\n\\item FALSE\n\\item TRUE\n\\item FALSE\n\\item FALSE\n\\item FALSE\n\\item FALSE\n\\item TRUE\n\\item TRUE\n\\item FALSE\n\\item TRUE\n\\item FALSE\n\\item FALSE\n\\item FALSE\n\\item TRUE\n\\end{enumerate*}\n",
            "text/markdown": "1. FALSE\n2. FALSE\n3. FALSE\n4. FALSE\n5. FALSE\n6. FALSE\n7. FALSE\n8. FALSE\n9. FALSE\n10. FALSE\n11. FALSE\n12. FALSE\n13. FALSE\n14. FALSE\n15. FALSE\n16. TRUE\n17. FALSE\n18. FALSE\n19. FALSE\n20. FALSE\n21. FALSE\n22. FALSE\n23. FALSE\n24. FALSE\n25. FALSE\n26. FALSE\n27. FALSE\n28. FALSE\n29. FALSE\n30. FALSE\n31. FALSE\n32. FALSE\n33. FALSE\n34. FALSE\n35. FALSE\n36. FALSE\n37. FALSE\n38. TRUE\n39. FALSE\n40. FALSE\n41. TRUE\n42. FALSE\n43. FALSE\n44. FALSE\n45. FALSE\n46. FALSE\n47. TRUE\n48. FALSE\n49. FALSE\n50. FALSE\n51. FALSE\n52. FALSE\n53. FALSE\n54. FALSE\n55. FALSE\n56. FALSE\n57. FALSE\n58. FALSE\n59. FALSE\n60. TRUE\n61. FALSE\n62. FALSE\n63. FALSE\n64. FALSE\n65. FALSE\n66. FALSE\n67. FALSE\n68. FALSE\n69. FALSE\n70. TRUE\n71. TRUE\n72. FALSE\n73. FALSE\n74. FALSE\n75. TRUE\n76. FALSE\n77. FALSE\n78. FALSE\n79. FALSE\n80. FALSE\n81. TRUE\n82. FALSE\n83. FALSE\n84. FALSE\n85. FALSE\n86. FALSE\n87. FALSE\n88. FALSE\n89. FALSE\n90. FALSE\n91. FALSE\n92. FALSE\n93. FALSE\n94. FALSE\n95. FALSE\n96. FALSE\n97. FALSE\n98. FALSE\n99. FALSE\n100. FALSE\n101. FALSE\n102. FALSE\n103. FALSE\n104. FALSE\n105. FALSE\n106. FALSE\n107. TRUE\n108. TRUE\n109. TRUE\n110. FALSE\n111. FALSE\n112. FALSE\n113. FALSE\n114. FALSE\n115. FALSE\n116. FALSE\n117. FALSE\n118. FALSE\n119. TRUE\n120. FALSE\n121. FALSE\n122. TRUE\n123. FALSE\n124. FALSE\n125. FALSE\n126. TRUE\n127. FALSE\n128. FALSE\n129. FALSE\n130. FALSE\n131. FALSE\n132. FALSE\n133. FALSE\n134. FALSE\n135. TRUE\n136. FALSE\n137. FALSE\n138. FALSE\n139. FALSE\n140. FALSE\n141. FALSE\n142. FALSE\n143. FALSE\n144. FALSE\n145. FALSE\n146. FALSE\n147. FALSE\n148. TRUE\n149. FALSE\n150. FALSE\n151. FALSE\n152. FALSE\n153. TRUE\n154. FALSE\n155. FALSE\n156. FALSE\n157. FALSE\n158. TRUE\n159. FALSE\n160. FALSE\n161. FALSE\n162. FALSE\n163. FALSE\n164. FALSE\n165. FALSE\n166. FALSE\n167. TRUE\n168. FALSE\n169. FALSE\n170. FALSE\n171. FALSE\n172. FALSE\n173. FALSE\n174. FALSE\n175. FALSE\n176. FALSE\n177. TRUE\n178. FALSE\n179. FALSE\n180. TRUE\n181. FALSE\n182. FALSE\n183. FALSE\n184. FALSE\n185. TRUE\n186. FALSE\n187. FALSE\n188. FALSE\n189. FALSE\n190. FALSE\n191. FALSE\n192. FALSE\n193. FALSE\n194. FALSE\n195. FALSE\n196. FALSE\n197. TRUE\n198. FALSE\n199. FALSE\n200. FALSE\n201. ⋯\n202. FALSE\n203. FALSE\n204. FALSE\n205. FALSE\n206. TRUE\n207. TRUE\n208. TRUE\n209. FALSE\n210. FALSE\n211. FALSE\n212. FALSE\n213. TRUE\n214. TRUE\n215. TRUE\n216. TRUE\n217. FALSE\n218. FALSE\n219. FALSE\n220. TRUE\n221. FALSE\n222. FALSE\n223. FALSE\n224. TRUE\n225. FALSE\n226. FALSE\n227. TRUE\n228. TRUE\n229. TRUE\n230. TRUE\n231. FALSE\n232. FALSE\n233. FALSE\n234. FALSE\n235. FALSE\n236. FALSE\n237. FALSE\n238. FALSE\n239. FALSE\n240. FALSE\n241. TRUE\n242. TRUE\n243. TRUE\n244. FALSE\n245. FALSE\n246. TRUE\n247. TRUE\n248. FALSE\n249. FALSE\n250. FALSE\n251. TRUE\n252. FALSE\n253. FALSE\n254. TRUE\n255. TRUE\n256. TRUE\n257. FALSE\n258. TRUE\n259. TRUE\n260. TRUE\n261. FALSE\n262. TRUE\n263. FALSE\n264. TRUE\n265. TRUE\n266. TRUE\n267. TRUE\n268. TRUE\n269. TRUE\n270. TRUE\n271. TRUE\n272. TRUE\n273. FALSE\n274. FALSE\n275. FALSE\n276. TRUE\n277. TRUE\n278. TRUE\n279. FALSE\n280. FALSE\n281. FALSE\n282. FALSE\n283. FALSE\n284. FALSE\n285. TRUE\n286. TRUE\n287. TRUE\n288. FALSE\n289. TRUE\n290. TRUE\n291. TRUE\n292. TRUE\n293. FALSE\n294. TRUE\n295. FALSE\n296. FALSE\n297. FALSE\n298. FALSE\n299. FALSE\n300. FALSE\n301. FALSE\n302. FALSE\n303. FALSE\n304. TRUE\n305. TRUE\n306. TRUE\n307. TRUE\n308. TRUE\n309. FALSE\n310. FALSE\n311. TRUE\n312. FALSE\n313. TRUE\n314. FALSE\n315. FALSE\n316. FALSE\n317. FALSE\n318. FALSE\n319. FALSE\n320. FALSE\n321. FALSE\n322. FALSE\n323. FALSE\n324. FALSE\n325. FALSE\n326. FALSE\n327. FALSE\n328. FALSE\n329. FALSE\n330. FALSE\n331. FALSE\n332. FALSE\n333. TRUE\n334. TRUE\n335. TRUE\n336. FALSE\n337. TRUE\n338. TRUE\n339. TRUE\n340. FALSE\n341. TRUE\n342. TRUE\n343. FALSE\n344. FALSE\n345. TRUE\n346. FALSE\n347. TRUE\n348. FALSE\n349. FALSE\n350. FALSE\n351. FALSE\n352. FALSE\n353. FALSE\n354. TRUE\n355. FALSE\n356. FALSE\n357. FALSE\n358. FALSE\n359. FALSE\n360. TRUE\n361. FALSE\n362. FALSE\n363. FALSE\n364. FALSE\n365. FALSE\n366. FALSE\n367. FALSE\n368. FALSE\n369. FALSE\n370. FALSE\n371. FALSE\n372. FALSE\n373. FALSE\n374. TRUE\n375. TRUE\n376. TRUE\n377. FALSE\n378. FALSE\n379. FALSE\n380. FALSE\n381. FALSE\n382. FALSE\n383. TRUE\n384. TRUE\n385. TRUE\n386. FALSE\n387. FALSE\n388. FALSE\n389. TRUE\n390. FALSE\n391. FALSE\n392. FALSE\n393. FALSE\n394. TRUE\n395. TRUE\n396. FALSE\n397. TRUE\n398. FALSE\n399. FALSE\n400. FALSE\n401. TRUE\n\n\n",
            "text/html": [
              "<style>\n",
              ".list-inline {list-style: none; margin:0; padding: 0}\n",
              ".list-inline>li {display: inline-block}\n",
              ".list-inline>li:not(:last-child)::after {content: \"\\00b7\"; padding: 0 .5ex}\n",
              "</style>\n",
              "<ol class=list-inline><li>FALSE</li><li>FALSE</li><li>FALSE</li><li>FALSE</li><li>FALSE</li><li>FALSE</li><li>FALSE</li><li>FALSE</li><li>FALSE</li><li>FALSE</li><li>FALSE</li><li>FALSE</li><li>FALSE</li><li>FALSE</li><li>FALSE</li><li>TRUE</li><li>FALSE</li><li>FALSE</li><li>FALSE</li><li>FALSE</li><li>FALSE</li><li>FALSE</li><li>FALSE</li><li>FALSE</li><li>FALSE</li><li>FALSE</li><li>FALSE</li><li>FALSE</li><li>FALSE</li><li>FALSE</li><li>FALSE</li><li>FALSE</li><li>FALSE</li><li>FALSE</li><li>FALSE</li><li>FALSE</li><li>FALSE</li><li>TRUE</li><li>FALSE</li><li>FALSE</li><li>TRUE</li><li>FALSE</li><li>FALSE</li><li>FALSE</li><li>FALSE</li><li>FALSE</li><li>TRUE</li><li>FALSE</li><li>FALSE</li><li>FALSE</li><li>FALSE</li><li>FALSE</li><li>FALSE</li><li>FALSE</li><li>FALSE</li><li>FALSE</li><li>FALSE</li><li>FALSE</li><li>FALSE</li><li>TRUE</li><li>FALSE</li><li>FALSE</li><li>FALSE</li><li>FALSE</li><li>FALSE</li><li>FALSE</li><li>FALSE</li><li>FALSE</li><li>FALSE</li><li>TRUE</li><li>TRUE</li><li>FALSE</li><li>FALSE</li><li>FALSE</li><li>TRUE</li><li>FALSE</li><li>FALSE</li><li>FALSE</li><li>FALSE</li><li>FALSE</li><li>TRUE</li><li>FALSE</li><li>FALSE</li><li>FALSE</li><li>FALSE</li><li>FALSE</li><li>FALSE</li><li>FALSE</li><li>FALSE</li><li>FALSE</li><li>FALSE</li><li>FALSE</li><li>FALSE</li><li>FALSE</li><li>FALSE</li><li>FALSE</li><li>FALSE</li><li>FALSE</li><li>FALSE</li><li>FALSE</li><li>FALSE</li><li>FALSE</li><li>FALSE</li><li>FALSE</li><li>FALSE</li><li>FALSE</li><li>TRUE</li><li>TRUE</li><li>TRUE</li><li>FALSE</li><li>FALSE</li><li>FALSE</li><li>FALSE</li><li>FALSE</li><li>FALSE</li><li>FALSE</li><li>FALSE</li><li>FALSE</li><li>TRUE</li><li>FALSE</li><li>FALSE</li><li>TRUE</li><li>FALSE</li><li>FALSE</li><li>FALSE</li><li>TRUE</li><li>FALSE</li><li>FALSE</li><li>FALSE</li><li>FALSE</li><li>FALSE</li><li>FALSE</li><li>FALSE</li><li>FALSE</li><li>TRUE</li><li>FALSE</li><li>FALSE</li><li>FALSE</li><li>FALSE</li><li>FALSE</li><li>FALSE</li><li>FALSE</li><li>FALSE</li><li>FALSE</li><li>FALSE</li><li>FALSE</li><li>FALSE</li><li>TRUE</li><li>FALSE</li><li>FALSE</li><li>FALSE</li><li>FALSE</li><li>TRUE</li><li>FALSE</li><li>FALSE</li><li>FALSE</li><li>FALSE</li><li>TRUE</li><li>FALSE</li><li>FALSE</li><li>FALSE</li><li>FALSE</li><li>FALSE</li><li>FALSE</li><li>FALSE</li><li>FALSE</li><li>TRUE</li><li>FALSE</li><li>FALSE</li><li>FALSE</li><li>FALSE</li><li>FALSE</li><li>FALSE</li><li>FALSE</li><li>FALSE</li><li>FALSE</li><li>TRUE</li><li>FALSE</li><li>FALSE</li><li>TRUE</li><li>FALSE</li><li>FALSE</li><li>FALSE</li><li>FALSE</li><li>TRUE</li><li>FALSE</li><li>FALSE</li><li>FALSE</li><li>FALSE</li><li>FALSE</li><li>FALSE</li><li>FALSE</li><li>FALSE</li><li>FALSE</li><li>FALSE</li><li>FALSE</li><li>TRUE</li><li>FALSE</li><li>FALSE</li><li>FALSE</li><li>⋯</li><li>FALSE</li><li>FALSE</li><li>FALSE</li><li>FALSE</li><li>TRUE</li><li>TRUE</li><li>TRUE</li><li>FALSE</li><li>FALSE</li><li>FALSE</li><li>FALSE</li><li>TRUE</li><li>TRUE</li><li>TRUE</li><li>TRUE</li><li>FALSE</li><li>FALSE</li><li>FALSE</li><li>TRUE</li><li>FALSE</li><li>FALSE</li><li>FALSE</li><li>TRUE</li><li>FALSE</li><li>FALSE</li><li>TRUE</li><li>TRUE</li><li>TRUE</li><li>TRUE</li><li>FALSE</li><li>FALSE</li><li>FALSE</li><li>FALSE</li><li>FALSE</li><li>FALSE</li><li>FALSE</li><li>FALSE</li><li>FALSE</li><li>FALSE</li><li>TRUE</li><li>TRUE</li><li>TRUE</li><li>FALSE</li><li>FALSE</li><li>TRUE</li><li>TRUE</li><li>FALSE</li><li>FALSE</li><li>FALSE</li><li>TRUE</li><li>FALSE</li><li>FALSE</li><li>TRUE</li><li>TRUE</li><li>TRUE</li><li>FALSE</li><li>TRUE</li><li>TRUE</li><li>TRUE</li><li>FALSE</li><li>TRUE</li><li>FALSE</li><li>TRUE</li><li>TRUE</li><li>TRUE</li><li>TRUE</li><li>TRUE</li><li>TRUE</li><li>TRUE</li><li>TRUE</li><li>TRUE</li><li>FALSE</li><li>FALSE</li><li>FALSE</li><li>TRUE</li><li>TRUE</li><li>TRUE</li><li>FALSE</li><li>FALSE</li><li>FALSE</li><li>FALSE</li><li>FALSE</li><li>FALSE</li><li>TRUE</li><li>TRUE</li><li>TRUE</li><li>FALSE</li><li>TRUE</li><li>TRUE</li><li>TRUE</li><li>TRUE</li><li>FALSE</li><li>TRUE</li><li>FALSE</li><li>FALSE</li><li>FALSE</li><li>FALSE</li><li>FALSE</li><li>FALSE</li><li>FALSE</li><li>FALSE</li><li>FALSE</li><li>TRUE</li><li>TRUE</li><li>TRUE</li><li>TRUE</li><li>TRUE</li><li>FALSE</li><li>FALSE</li><li>TRUE</li><li>FALSE</li><li>TRUE</li><li>FALSE</li><li>FALSE</li><li>FALSE</li><li>FALSE</li><li>FALSE</li><li>FALSE</li><li>FALSE</li><li>FALSE</li><li>FALSE</li><li>FALSE</li><li>FALSE</li><li>FALSE</li><li>FALSE</li><li>FALSE</li><li>FALSE</li><li>FALSE</li><li>FALSE</li><li>FALSE</li><li>FALSE</li><li>TRUE</li><li>TRUE</li><li>TRUE</li><li>FALSE</li><li>TRUE</li><li>TRUE</li><li>TRUE</li><li>FALSE</li><li>TRUE</li><li>TRUE</li><li>FALSE</li><li>FALSE</li><li>TRUE</li><li>FALSE</li><li>TRUE</li><li>FALSE</li><li>FALSE</li><li>FALSE</li><li>FALSE</li><li>FALSE</li><li>FALSE</li><li>TRUE</li><li>FALSE</li><li>FALSE</li><li>FALSE</li><li>FALSE</li><li>FALSE</li><li>TRUE</li><li>FALSE</li><li>FALSE</li><li>FALSE</li><li>FALSE</li><li>FALSE</li><li>FALSE</li><li>FALSE</li><li>FALSE</li><li>FALSE</li><li>FALSE</li><li>FALSE</li><li>FALSE</li><li>FALSE</li><li>TRUE</li><li>TRUE</li><li>TRUE</li><li>FALSE</li><li>FALSE</li><li>FALSE</li><li>FALSE</li><li>FALSE</li><li>FALSE</li><li>TRUE</li><li>TRUE</li><li>TRUE</li><li>FALSE</li><li>FALSE</li><li>FALSE</li><li>TRUE</li><li>FALSE</li><li>FALSE</li><li>FALSE</li><li>FALSE</li><li>TRUE</li><li>TRUE</li><li>FALSE</li><li>TRUE</li><li>FALSE</li><li>FALSE</li><li>FALSE</li><li>TRUE</li></ol>\n"
            ]
          },
          "metadata": {
            "tags": []
          }
        }
      ]
    },
    {
      "cell_type": "code",
      "metadata": {
        "id": "9AFdXJYn9e85",
        "outputId": "f0848213-3d42-4bad-d4f0-b5c47d1a7a41",
        "colab": {
          "base_uri": "https://localhost:8080/",
          "height": 33
        }
      },
      "source": [
        " titanic$age[ is.na(titanic$age)] <- mv  #age 컬럼에 결측치가 포함된 항목을 찾아서 중앙값 대체\n",
        " colSums(is.na(titanic))  # 중앙값 대체후 결측치 확인"
      ],
      "execution_count": null,
      "outputs": [
        {
          "output_type": "display_data",
          "data": {
            "text/plain": [
              "  pclass survived     name      sex      age    sibsp    parch   ticket \n",
              "       1        1        0        0        0        1        1        0 \n",
              "    fare    cabin embarked \n",
              "       2        0        0 "
            ],
            "text/latex": "\\begin{description*}\n\\item[pclass] 1\n\\item[survived] 1\n\\item[name] 0\n\\item[sex] 0\n\\item[age] 0\n\\item[sibsp] 1\n\\item[parch] 1\n\\item[ticket] 0\n\\item[fare] 2\n\\item[cabin] 0\n\\item[embarked] 0\n\\end{description*}\n",
            "text/markdown": "pclass\n:   1survived\n:   1name\n:   0sex\n:   0age\n:   0sibsp\n:   1parch\n:   1ticket\n:   0fare\n:   2cabin\n:   0embarked\n:   0\n\n",
            "text/html": [
              "<style>\n",
              ".dl-inline {width: auto; margin:0; padding: 0}\n",
              ".dl-inline>dt, .dl-inline>dd {float: none; width: auto; display: inline-block}\n",
              ".dl-inline>dt::after {content: \":\\0020\"; padding-right: .5ex}\n",
              ".dl-inline>dt:not(:first-of-type) {padding-left: .5ex}\n",
              "</style><dl class=dl-inline><dt>pclass</dt><dd>1</dd><dt>survived</dt><dd>1</dd><dt>name</dt><dd>0</dd><dt>sex</dt><dd>0</dd><dt>age</dt><dd>0</dd><dt>sibsp</dt><dd>1</dd><dt>parch</dt><dd>1</dd><dt>ticket</dt><dd>0</dd><dt>fare</dt><dd>2</dd><dt>cabin</dt><dd>0</dd><dt>embarked</dt><dd>0</dd></dl>\n"
            ]
          },
          "metadata": {
            "tags": []
          }
        }
      ]
    },
    {
      "cell_type": "code",
      "metadata": {
        "id": "hlSHCd7s-c2r",
        "outputId": "ce4afec8-2d38-479d-92fe-1e15663304ed",
        "colab": {
          "base_uri": "https://localhost:8080/",
          "height": 33
        }
      },
      "source": [
        "titanic3 <- na.omit(titanic)  #나머지 결측치 제거\n",
        "colSums(is.na(titanic3))"
      ],
      "execution_count": null,
      "outputs": [
        {
          "output_type": "display_data",
          "data": {
            "text/plain": [
              "  pclass survived     name      sex      age    sibsp    parch   ticket \n",
              "       0        0        0        0        0        0        0        0 \n",
              "    fare    cabin embarked \n",
              "       0        0        0 "
            ],
            "text/latex": "\\begin{description*}\n\\item[pclass] 0\n\\item[survived] 0\n\\item[name] 0\n\\item[sex] 0\n\\item[age] 0\n\\item[sibsp] 0\n\\item[parch] 0\n\\item[ticket] 0\n\\item[fare] 0\n\\item[cabin] 0\n\\item[embarked] 0\n\\end{description*}\n",
            "text/markdown": "pclass\n:   0survived\n:   0name\n:   0sex\n:   0age\n:   0sibsp\n:   0parch\n:   0ticket\n:   0fare\n:   0cabin\n:   0embarked\n:   0\n\n",
            "text/html": [
              "<style>\n",
              ".dl-inline {width: auto; margin:0; padding: 0}\n",
              ".dl-inline>dt, .dl-inline>dd {float: none; width: auto; display: inline-block}\n",
              ".dl-inline>dt::after {content: \":\\0020\"; padding-right: .5ex}\n",
              ".dl-inline>dt:not(:first-of-type) {padding-left: .5ex}\n",
              "</style><dl class=dl-inline><dt>pclass</dt><dd>0</dd><dt>survived</dt><dd>0</dd><dt>name</dt><dd>0</dd><dt>sex</dt><dd>0</dd><dt>age</dt><dd>0</dd><dt>sibsp</dt><dd>0</dd><dt>parch</dt><dd>0</dd><dt>ticket</dt><dd>0</dd><dt>fare</dt><dd>0</dd><dt>cabin</dt><dd>0</dd><dt>embarked</dt><dd>0</dd></dl>\n"
            ]
          },
          "metadata": {
            "tags": []
          }
        }
      ]
    },
    {
      "cell_type": "code",
      "metadata": {
        "id": "C3gWjPqn--yA",
        "outputId": "01acab56-617c-412f-a685-0e06370f5cc9",
        "colab": {
          "base_uri": "https://localhost:8080/",
          "height": 436
        }
      },
      "source": [
        "frq_gdr <- table(titanic3$sex)\n",
        "barplot(frq_gdr)   # 여전히 결측치 있음"
      ],
      "execution_count": null,
      "outputs": [
        {
          "output_type": "display_data",
          "data": {
            "image/png": "[encoded data removed]",
            "text/plain": [
              "plot without title"
            ]
          },
          "metadata": {
            "tags": [],
            "image/png": {
              "width": 420,
              "height": 420
            }
          }
        }
      ]
    },
    {
      "cell_type": "code",
      "metadata": {
        "id": "XZuBCx30_kUY"
      },
      "source": [
        "# read.csv 알아보기\n",
        "# csv로 작성된 파일을 R로 읽어 들일때 사용\n",
        "#read.csv ('파일경로', 헤더여부, 구분자, 결측치처리, 인코딩 )\n",
        "# read.csv('', header=f, sep=',', encoding='euc-kr' ) 한글 읽을때\n",
        "# na.strings=''\n",
        "titanic <- read.csv('https://raw.githubusercontent.com/siestageek/R_statstics/master/datasets/titanic.csv' , na.strings='') # 빈문자 na로 대체"
      ],
      "execution_count": null,
      "outputs": []
    },
    {
      "cell_type": "code",
      "metadata": {
        "id": "4kX_CjLkIXXN",
        "outputId": "a5413c15-04cc-4df4-9359-24b6316a3369",
        "colab": {
          "base_uri": "https://localhost:8080/",
          "height": 230
        }
      },
      "source": [
        "str(titanic)"
      ],
      "execution_count": null,
      "outputs": [
        {
          "output_type": "stream",
          "text": [
            "'data.frame':\t1310 obs. of  11 variables:\n",
            " $ pclass  : int  1 1 1 1 1 1 1 1 1 1 ...\n",
            " $ survived: int  1 1 0 0 0 1 1 0 1 0 ...\n",
            " $ name    : Factor w/ 1307 levels \"Abbing, Mr. Anthony\",..: 22 24 25 26 27 31 46 47 51 55 ...\n",
            " $ sex     : Factor w/ 2 levels \"female\",\"male\": 1 2 1 2 1 2 1 2 1 2 ...\n",
            " $ age     : num  29 0.917 2 30 25 ...\n",
            " $ sibsp   : int  0 1 1 1 1 0 1 0 2 0 ...\n",
            " $ parch   : int  0 2 2 2 2 0 0 0 0 0 ...\n",
            " $ ticket  : Factor w/ 929 levels \"110152\",\"110413\",..: 188 50 50 50 50 125 93 16 77 826 ...\n",
            " $ fare    : num  211 152 152 152 152 ...\n",
            " $ cabin   : Factor w/ 186 levels \"A10\",\"A11\",\"A14\",..: 44 80 80 80 80 150 146 16 62 NA ...\n",
            " $ embarked: Factor w/ 3 levels \"C\",\"Q\",\"S\": 3 3 3 3 3 3 3 3 3 1 ...\n"
          ],
          "name": "stdout"
        }
      ]
    },
    {
      "cell_type": "code",
      "metadata": {
        "id": "H2d_8-myGk0w",
        "outputId": "62c60a27-add0-491e-ad5a-e04b12c0c1ff",
        "colab": {
          "base_uri": "https://localhost:8080/",
          "height": 33
        }
      },
      "source": [
        "mev <- floor(mean(titanic$age, na.rm=T))\n",
        "mev\n",
        "titanic$age[is.na(titanic$age)] <- mev"
      ],
      "execution_count": null,
      "outputs": [
        {
          "output_type": "display_data",
          "data": {
            "text/plain": [
              "[1] 29"
            ],
            "text/latex": "29",
            "text/markdown": "29",
            "text/html": [
              "29"
            ]
          },
          "metadata": {
            "tags": []
          }
        }
      ]
    },
    {
      "cell_type": "code",
      "metadata": {
        "id": "eTtLr1kHJL5C"
      },
      "source": [
        "titanic <- na.omit(titanic)"
      ],
      "execution_count": null,
      "outputs": []
    },
    {
      "cell_type": "code",
      "metadata": {
        "id": "dYEujXDkJTFg",
        "outputId": "214ee73a-20e0-464b-c696-d57a97cb0b2e",
        "colab": {
          "base_uri": "https://localhost:8080/",
          "height": 436
        }
      },
      "source": [
        "frq_gdr <- table(titanic$sex)\n",
        "barplot(frq_gdr)"
      ],
      "execution_count": null,
      "outputs": [
        {
          "output_type": "display_data",
          "data": {
            "image/png": "[encoded data removed]",
            "text/plain": [
              "plot without title"
            ]
          },
          "metadata": {
            "tags": [],
            "image/png": {
              "width": 420,
              "height": 420
            }
          }
        }
      ]
    },
    {
      "cell_type": "code",
      "metadata": {
        "id": "mkyQNJLqKGWI"
      },
      "source": [
        "# 작업한 내용을 파일로 저장하기\n",
        "# write.csv('저장경로',  row.names=F) : csv 파일로 저장\n",
        "# save(객체, '저장경로') : R용 datat 파일로 저장\n",
        "write.csv(titanic, 'titanic.csv', row.names=F)   #타이타닉 데이터프레임을 titanic.csv 파일로 저장"
      ],
      "execution_count": null,
      "outputs": []
    },
    {
      "cell_type": "code",
      "metadata": {
        "id": "lINmq7c1MBTX"
      },
      "source": [
        "write.csv(titanic, 'titanic.csv', row.names=F)"
      ],
      "execution_count": null,
      "outputs": []
    },
    {
      "cell_type": "code",
      "metadata": {
        "id": "WcVlpROTMaKV"
      },
      "source": [
        "save(titanic,file='titanic.rdata')  # R전용 데이터로 저장"
      ],
      "execution_count": null,
      "outputs": []
    },
    {
      "cell_type": "code",
      "metadata": {
        "id": "Q3ASu95YQd4v",
        "outputId": "14dafb87-5f33-4155-da7f-56c3c9a6f083",
        "colab": {
          "base_uri": "https://localhost:8080/",
          "height": 336
        }
      },
      "source": [
        "# 우편번호 데이터 읽어보기\n",
        "zipcode <- read.csv('https://raw.githubusercontent.com/kjoonp/R_statistics/master/zipcode_2013.txt', sep='\\t')\n",
        "head(zipcode,15)"
      ],
      "execution_count": null,
      "outputs": [
        {
          "output_type": "display_data",
          "data": {
            "text/plain": [
              "   ZIPCODE SIDO GUGUN  DONG    RI            BUNJI       SEQ\n",
              "1  135-806 서울 강남구 개포1동 경남아파트                 1 \n",
              "2  135-807 서울 강남구 개포1동 우성3차아파트 (1∼6동)      2 \n",
              "3  135-806 서울 강남구 개포1동 우성9차아파트 (901∼902동)  3 \n",
              "4  135-770 서울 강남구 개포1동 주공아파트    (1∼16동)     4 \n",
              "5  135-805 서울 강남구 개포1동 주공아파트    (17∼40동)    5 \n",
              "6  135-966 서울 강남구 개포1동 주공아파트    (41∼85동)    6 \n",
              "7  135-807 서울 강남구 개포1동 주공아파트    (86∼103동)   7 \n",
              "8  135-805 서울 강남구 개포1동 주공아파트    (104∼125동)  8 \n",
              "9  135-807 서울 강남구 개포1동 현대1차아파트 (101∼106동)  9 \n",
              "10 135-805 서울 강남구 개포1동               565         10 \n",
              "11 135-806 서울 강남구 개포1동               649∼651     11 \n",
              "12 135-807 서울 강남구 개포1동               652∼653     12 \n",
              "13 135-810 서울 강남구 개포1동               660         13 \n",
              "14 135-241 서울 강남구 개포1동                           14 \n",
              "15 135-800 서울 강남구 개포2동 우성8차아파트 (801∼803동) 15 "
            ],
            "text/latex": "A data.frame: 15 × 7\n\\begin{tabular}{r|lllllll}\n  & ZIPCODE & SIDO & GUGUN & DONG & RI & BUNJI & SEQ\\\\\n  & <fct> & <fct> & <fct> & <fct> & <fct> & <fct> & <int>\\\\\n\\hline\n\t1 & 135-806 & 서울 & 강남구 & 개포1동 & 경남아파트    &             &  1\\\\\n\t2 & 135-807 & 서울 & 강남구 & 개포1동 & 우성3차아파트 & (1∼6동)     &  2\\\\\n\t3 & 135-806 & 서울 & 강남구 & 개포1동 & 우성9차아파트 & (901∼902동) &  3\\\\\n\t4 & 135-770 & 서울 & 강남구 & 개포1동 & 주공아파트    & (1∼16동)    &  4\\\\\n\t5 & 135-805 & 서울 & 강남구 & 개포1동 & 주공아파트    & (17∼40동)   &  5\\\\\n\t6 & 135-966 & 서울 & 강남구 & 개포1동 & 주공아파트    & (41∼85동)   &  6\\\\\n\t7 & 135-807 & 서울 & 강남구 & 개포1동 & 주공아파트    & (86∼103동)  &  7\\\\\n\t8 & 135-805 & 서울 & 강남구 & 개포1동 & 주공아파트    & (104∼125동) &  8\\\\\n\t9 & 135-807 & 서울 & 강남구 & 개포1동 & 현대1차아파트 & (101∼106동) &  9\\\\\n\t10 & 135-805 & 서울 & 강남구 & 개포1동 &               & 565         & 10\\\\\n\t11 & 135-806 & 서울 & 강남구 & 개포1동 &               & 649∼651     & 11\\\\\n\t12 & 135-807 & 서울 & 강남구 & 개포1동 &               & 652∼653     & 12\\\\\n\t13 & 135-810 & 서울 & 강남구 & 개포1동 &               & 660         & 13\\\\\n\t14 & 135-241 & 서울 & 강남구 & 개포1동 &               &             & 14\\\\\n\t15 & 135-800 & 서울 & 강남구 & 개포2동 & 우성8차아파트 & (801∼803동) & 15\\\\\n\\end{tabular}\n",
            "text/markdown": "\nA data.frame: 15 × 7\n\n| <!--/--> | ZIPCODE &lt;fct&gt; | SIDO &lt;fct&gt; | GUGUN &lt;fct&gt; | DONG &lt;fct&gt; | RI &lt;fct&gt; | BUNJI &lt;fct&gt; | SEQ &lt;int&gt; |\n|---|---|---|---|---|---|---|---|\n| 1 | 135-806 | 서울 | 강남구 | 개포1동 | 경남아파트    | <!----> |  1 |\n| 2 | 135-807 | 서울 | 강남구 | 개포1동 | 우성3차아파트 | (1∼6동)     |  2 |\n| 3 | 135-806 | 서울 | 강남구 | 개포1동 | 우성9차아파트 | (901∼902동) |  3 |\n| 4 | 135-770 | 서울 | 강남구 | 개포1동 | 주공아파트    | (1∼16동)    |  4 |\n| 5 | 135-805 | 서울 | 강남구 | 개포1동 | 주공아파트    | (17∼40동)   |  5 |\n| 6 | 135-966 | 서울 | 강남구 | 개포1동 | 주공아파트    | (41∼85동)   |  6 |\n| 7 | 135-807 | 서울 | 강남구 | 개포1동 | 주공아파트    | (86∼103동)  |  7 |\n| 8 | 135-805 | 서울 | 강남구 | 개포1동 | 주공아파트    | (104∼125동) |  8 |\n| 9 | 135-807 | 서울 | 강남구 | 개포1동 | 현대1차아파트 | (101∼106동) |  9 |\n| 10 | 135-805 | 서울 | 강남구 | 개포1동 | <!----> | 565         | 10 |\n| 11 | 135-806 | 서울 | 강남구 | 개포1동 | <!----> | 649∼651     | 11 |\n| 12 | 135-807 | 서울 | 강남구 | 개포1동 | <!----> | 652∼653     | 12 |\n| 13 | 135-810 | 서울 | 강남구 | 개포1동 | <!----> | 660         | 13 |\n| 14 | 135-241 | 서울 | 강남구 | 개포1동 | <!----> | <!----> | 14 |\n| 15 | 135-800 | 서울 | 강남구 | 개포2동 | 우성8차아파트 | (801∼803동) | 15 |\n\n",
            "text/html": [
              "<table>\n",
              "<caption>A data.frame: 15 × 7</caption>\n",
              "<thead>\n",
              "\t<tr><th></th><th scope=col>ZIPCODE</th><th scope=col>SIDO</th><th scope=col>GUGUN</th><th scope=col>DONG</th><th scope=col>RI</th><th scope=col>BUNJI</th><th scope=col>SEQ</th></tr>\n",
              "\t<tr><th></th><th scope=col>&lt;fct&gt;</th><th scope=col>&lt;fct&gt;</th><th scope=col>&lt;fct&gt;</th><th scope=col>&lt;fct&gt;</th><th scope=col>&lt;fct&gt;</th><th scope=col>&lt;fct&gt;</th><th scope=col>&lt;int&gt;</th></tr>\n",
              "</thead>\n",
              "<tbody>\n",
              "\t<tr><th scope=row>1</th><td>135-806</td><td>서울</td><td>강남구</td><td>개포1동</td><td>경남아파트   </td><td>           </td><td> 1</td></tr>\n",
              "\t<tr><th scope=row>2</th><td>135-807</td><td>서울</td><td>강남구</td><td>개포1동</td><td>우성3차아파트</td><td>(1∼6동)    </td><td> 2</td></tr>\n",
              "\t<tr><th scope=row>3</th><td>135-806</td><td>서울</td><td>강남구</td><td>개포1동</td><td>우성9차아파트</td><td>(901∼902동)</td><td> 3</td></tr>\n",
              "\t<tr><th scope=row>4</th><td>135-770</td><td>서울</td><td>강남구</td><td>개포1동</td><td>주공아파트   </td><td>(1∼16동)   </td><td> 4</td></tr>\n",
              "\t<tr><th scope=row>5</th><td>135-805</td><td>서울</td><td>강남구</td><td>개포1동</td><td>주공아파트   </td><td>(17∼40동)  </td><td> 5</td></tr>\n",
              "\t<tr><th scope=row>6</th><td>135-966</td><td>서울</td><td>강남구</td><td>개포1동</td><td>주공아파트   </td><td>(41∼85동)  </td><td> 6</td></tr>\n",
              "\t<tr><th scope=row>7</th><td>135-807</td><td>서울</td><td>강남구</td><td>개포1동</td><td>주공아파트   </td><td>(86∼103동) </td><td> 7</td></tr>\n",
              "\t<tr><th scope=row>8</th><td>135-805</td><td>서울</td><td>강남구</td><td>개포1동</td><td>주공아파트   </td><td>(104∼125동)</td><td> 8</td></tr>\n",
              "\t<tr><th scope=row>9</th><td>135-807</td><td>서울</td><td>강남구</td><td>개포1동</td><td>현대1차아파트</td><td>(101∼106동)</td><td> 9</td></tr>\n",
              "\t<tr><th scope=row>10</th><td>135-805</td><td>서울</td><td>강남구</td><td>개포1동</td><td>             </td><td>565        </td><td>10</td></tr>\n",
              "\t<tr><th scope=row>11</th><td>135-806</td><td>서울</td><td>강남구</td><td>개포1동</td><td>             </td><td>649∼651    </td><td>11</td></tr>\n",
              "\t<tr><th scope=row>12</th><td>135-807</td><td>서울</td><td>강남구</td><td>개포1동</td><td>             </td><td>652∼653    </td><td>12</td></tr>\n",
              "\t<tr><th scope=row>13</th><td>135-810</td><td>서울</td><td>강남구</td><td>개포1동</td><td>             </td><td>660        </td><td>13</td></tr>\n",
              "\t<tr><th scope=row>14</th><td>135-241</td><td>서울</td><td>강남구</td><td>개포1동</td><td>             </td><td>           </td><td>14</td></tr>\n",
              "\t<tr><th scope=row>15</th><td>135-800</td><td>서울</td><td>강남구</td><td>개포2동</td><td>우성8차아파트</td><td>(801∼803동)</td><td>15</td></tr>\n",
              "</tbody>\n",
              "</table>\n"
            ]
          },
          "metadata": {
            "tags": []
          }
        }
      ]
    },
    {
      "cell_type": "code",
      "metadata": {
        "id": "U5CPrNHCSXF0",
        "outputId": "e4c8941b-1260-4596-f9d6-9077c3410955",
        "colab": {
          "base_uri": "https://localhost:8080/",
          "height": 336
        }
      },
      "source": [
        "zip <- na.omit(zipcode)\n",
        "head(zip, 15)"
      ],
      "execution_count": null,
      "outputs": [
        {
          "output_type": "display_data",
          "data": {
            "text/plain": [
              "   ZIPCODE SIDO GUGUN  DONG    RI            BUNJI       SEQ\n",
              "1  135-806 서울 강남구 개포1동 경남아파트                 1 \n",
              "2  135-807 서울 강남구 개포1동 우성3차아파트 (1∼6동)      2 \n",
              "3  135-806 서울 강남구 개포1동 우성9차아파트 (901∼902동)  3 \n",
              "4  135-770 서울 강남구 개포1동 주공아파트    (1∼16동)     4 \n",
              "5  135-805 서울 강남구 개포1동 주공아파트    (17∼40동)    5 \n",
              "6  135-966 서울 강남구 개포1동 주공아파트    (41∼85동)    6 \n",
              "7  135-807 서울 강남구 개포1동 주공아파트    (86∼103동)   7 \n",
              "8  135-805 서울 강남구 개포1동 주공아파트    (104∼125동)  8 \n",
              "9  135-807 서울 강남구 개포1동 현대1차아파트 (101∼106동)  9 \n",
              "10 135-805 서울 강남구 개포1동               565         10 \n",
              "11 135-806 서울 강남구 개포1동               649∼651     11 \n",
              "12 135-807 서울 강남구 개포1동               652∼653     12 \n",
              "13 135-810 서울 강남구 개포1동               660         13 \n",
              "14 135-241 서울 강남구 개포1동                           14 \n",
              "15 135-800 서울 강남구 개포2동 우성8차아파트 (801∼803동) 15 "
            ],
            "text/latex": "A data.frame: 15 × 7\n\\begin{tabular}{r|lllllll}\n  & ZIPCODE & SIDO & GUGUN & DONG & RI & BUNJI & SEQ\\\\\n  & <fct> & <fct> & <fct> & <fct> & <fct> & <fct> & <int>\\\\\n\\hline\n\t1 & 135-806 & 서울 & 강남구 & 개포1동 & 경남아파트    &             &  1\\\\\n\t2 & 135-807 & 서울 & 강남구 & 개포1동 & 우성3차아파트 & (1∼6동)     &  2\\\\\n\t3 & 135-806 & 서울 & 강남구 & 개포1동 & 우성9차아파트 & (901∼902동) &  3\\\\\n\t4 & 135-770 & 서울 & 강남구 & 개포1동 & 주공아파트    & (1∼16동)    &  4\\\\\n\t5 & 135-805 & 서울 & 강남구 & 개포1동 & 주공아파트    & (17∼40동)   &  5\\\\\n\t6 & 135-966 & 서울 & 강남구 & 개포1동 & 주공아파트    & (41∼85동)   &  6\\\\\n\t7 & 135-807 & 서울 & 강남구 & 개포1동 & 주공아파트    & (86∼103동)  &  7\\\\\n\t8 & 135-805 & 서울 & 강남구 & 개포1동 & 주공아파트    & (104∼125동) &  8\\\\\n\t9 & 135-807 & 서울 & 강남구 & 개포1동 & 현대1차아파트 & (101∼106동) &  9\\\\\n\t10 & 135-805 & 서울 & 강남구 & 개포1동 &               & 565         & 10\\\\\n\t11 & 135-806 & 서울 & 강남구 & 개포1동 &               & 649∼651     & 11\\\\\n\t12 & 135-807 & 서울 & 강남구 & 개포1동 &               & 652∼653     & 12\\\\\n\t13 & 135-810 & 서울 & 강남구 & 개포1동 &               & 660         & 13\\\\\n\t14 & 135-241 & 서울 & 강남구 & 개포1동 &               &             & 14\\\\\n\t15 & 135-800 & 서울 & 강남구 & 개포2동 & 우성8차아파트 & (801∼803동) & 15\\\\\n\\end{tabular}\n",
            "text/markdown": "\nA data.frame: 15 × 7\n\n| <!--/--> | ZIPCODE &lt;fct&gt; | SIDO &lt;fct&gt; | GUGUN &lt;fct&gt; | DONG &lt;fct&gt; | RI &lt;fct&gt; | BUNJI &lt;fct&gt; | SEQ &lt;int&gt; |\n|---|---|---|---|---|---|---|---|\n| 1 | 135-806 | 서울 | 강남구 | 개포1동 | 경남아파트    | <!----> |  1 |\n| 2 | 135-807 | 서울 | 강남구 | 개포1동 | 우성3차아파트 | (1∼6동)     |  2 |\n| 3 | 135-806 | 서울 | 강남구 | 개포1동 | 우성9차아파트 | (901∼902동) |  3 |\n| 4 | 135-770 | 서울 | 강남구 | 개포1동 | 주공아파트    | (1∼16동)    |  4 |\n| 5 | 135-805 | 서울 | 강남구 | 개포1동 | 주공아파트    | (17∼40동)   |  5 |\n| 6 | 135-966 | 서울 | 강남구 | 개포1동 | 주공아파트    | (41∼85동)   |  6 |\n| 7 | 135-807 | 서울 | 강남구 | 개포1동 | 주공아파트    | (86∼103동)  |  7 |\n| 8 | 135-805 | 서울 | 강남구 | 개포1동 | 주공아파트    | (104∼125동) |  8 |\n| 9 | 135-807 | 서울 | 강남구 | 개포1동 | 현대1차아파트 | (101∼106동) |  9 |\n| 10 | 135-805 | 서울 | 강남구 | 개포1동 | <!----> | 565         | 10 |\n| 11 | 135-806 | 서울 | 강남구 | 개포1동 | <!----> | 649∼651     | 11 |\n| 12 | 135-807 | 서울 | 강남구 | 개포1동 | <!----> | 652∼653     | 12 |\n| 13 | 135-810 | 서울 | 강남구 | 개포1동 | <!----> | 660         | 13 |\n| 14 | 135-241 | 서울 | 강남구 | 개포1동 | <!----> | <!----> | 14 |\n| 15 | 135-800 | 서울 | 강남구 | 개포2동 | 우성8차아파트 | (801∼803동) | 15 |\n\n",
            "text/html": [
              "<table>\n",
              "<caption>A data.frame: 15 × 7</caption>\n",
              "<thead>\n",
              "\t<tr><th></th><th scope=col>ZIPCODE</th><th scope=col>SIDO</th><th scope=col>GUGUN</th><th scope=col>DONG</th><th scope=col>RI</th><th scope=col>BUNJI</th><th scope=col>SEQ</th></tr>\n",
              "\t<tr><th></th><th scope=col>&lt;fct&gt;</th><th scope=col>&lt;fct&gt;</th><th scope=col>&lt;fct&gt;</th><th scope=col>&lt;fct&gt;</th><th scope=col>&lt;fct&gt;</th><th scope=col>&lt;fct&gt;</th><th scope=col>&lt;int&gt;</th></tr>\n",
              "</thead>\n",
              "<tbody>\n",
              "\t<tr><th scope=row>1</th><td>135-806</td><td>서울</td><td>강남구</td><td>개포1동</td><td>경남아파트   </td><td>           </td><td> 1</td></tr>\n",
              "\t<tr><th scope=row>2</th><td>135-807</td><td>서울</td><td>강남구</td><td>개포1동</td><td>우성3차아파트</td><td>(1∼6동)    </td><td> 2</td></tr>\n",
              "\t<tr><th scope=row>3</th><td>135-806</td><td>서울</td><td>강남구</td><td>개포1동</td><td>우성9차아파트</td><td>(901∼902동)</td><td> 3</td></tr>\n",
              "\t<tr><th scope=row>4</th><td>135-770</td><td>서울</td><td>강남구</td><td>개포1동</td><td>주공아파트   </td><td>(1∼16동)   </td><td> 4</td></tr>\n",
              "\t<tr><th scope=row>5</th><td>135-805</td><td>서울</td><td>강남구</td><td>개포1동</td><td>주공아파트   </td><td>(17∼40동)  </td><td> 5</td></tr>\n",
              "\t<tr><th scope=row>6</th><td>135-966</td><td>서울</td><td>강남구</td><td>개포1동</td><td>주공아파트   </td><td>(41∼85동)  </td><td> 6</td></tr>\n",
              "\t<tr><th scope=row>7</th><td>135-807</td><td>서울</td><td>강남구</td><td>개포1동</td><td>주공아파트   </td><td>(86∼103동) </td><td> 7</td></tr>\n",
              "\t<tr><th scope=row>8</th><td>135-805</td><td>서울</td><td>강남구</td><td>개포1동</td><td>주공아파트   </td><td>(104∼125동)</td><td> 8</td></tr>\n",
              "\t<tr><th scope=row>9</th><td>135-807</td><td>서울</td><td>강남구</td><td>개포1동</td><td>현대1차아파트</td><td>(101∼106동)</td><td> 9</td></tr>\n",
              "\t<tr><th scope=row>10</th><td>135-805</td><td>서울</td><td>강남구</td><td>개포1동</td><td>             </td><td>565        </td><td>10</td></tr>\n",
              "\t<tr><th scope=row>11</th><td>135-806</td><td>서울</td><td>강남구</td><td>개포1동</td><td>             </td><td>649∼651    </td><td>11</td></tr>\n",
              "\t<tr><th scope=row>12</th><td>135-807</td><td>서울</td><td>강남구</td><td>개포1동</td><td>             </td><td>652∼653    </td><td>12</td></tr>\n",
              "\t<tr><th scope=row>13</th><td>135-810</td><td>서울</td><td>강남구</td><td>개포1동</td><td>             </td><td>660        </td><td>13</td></tr>\n",
              "\t<tr><th scope=row>14</th><td>135-241</td><td>서울</td><td>강남구</td><td>개포1동</td><td>             </td><td>           </td><td>14</td></tr>\n",
              "\t<tr><th scope=row>15</th><td>135-800</td><td>서울</td><td>강남구</td><td>개포2동</td><td>우성8차아파트</td><td>(801∼803동)</td><td>15</td></tr>\n",
              "</tbody>\n",
              "</table>\n"
            ]
          },
          "metadata": {
            "tags": []
          }
        }
      ]
    },
    {
      "cell_type": "code",
      "metadata": {
        "id": "4IT6vxwwVyBz",
        "outputId": "cf243f27-0b41-471d-8234-944dadcde569",
        "colab": {
          "base_uri": "https://localhost:8080/",
          "height": 410
        }
      },
      "source": [
        "zipcode2 <- read.csv('https://raw.githubusercontent.com/kjoonp/R_statistics/master/zipcode_2013.txt', sep='\\t', na.strings='')\n",
        "head(zipcode2, 15)\n",
        "colSums(is.na(zipcode2))"
      ],
      "execution_count": null,
      "outputs": [
        {
          "output_type": "display_data",
          "data": {
            "text/plain": [
              "   ZIPCODE SIDO GUGUN  DONG    RI            BUNJI       SEQ\n",
              "1  135-806 서울 강남구 개포1동 경남아파트    NA           1 \n",
              "2  135-807 서울 강남구 개포1동 우성3차아파트 (1∼6동)      2 \n",
              "3  135-806 서울 강남구 개포1동 우성9차아파트 (901∼902동)  3 \n",
              "4  135-770 서울 강남구 개포1동 주공아파트    (1∼16동)     4 \n",
              "5  135-805 서울 강남구 개포1동 주공아파트    (17∼40동)    5 \n",
              "6  135-966 서울 강남구 개포1동 주공아파트    (41∼85동)    6 \n",
              "7  135-807 서울 강남구 개포1동 주공아파트    (86∼103동)   7 \n",
              "8  135-805 서울 강남구 개포1동 주공아파트    (104∼125동)  8 \n",
              "9  135-807 서울 강남구 개포1동 현대1차아파트 (101∼106동)  9 \n",
              "10 135-805 서울 강남구 개포1동 NA            565         10 \n",
              "11 135-806 서울 강남구 개포1동 NA            649∼651     11 \n",
              "12 135-807 서울 강남구 개포1동 NA            652∼653     12 \n",
              "13 135-810 서울 강남구 개포1동 NA            660         13 \n",
              "14 135-241 서울 강남구 개포1동 NA            NA          14 \n",
              "15 135-800 서울 강남구 개포2동 우성8차아파트 (801∼803동) 15 "
            ],
            "text/latex": "A data.frame: 15 × 7\n\\begin{tabular}{r|lllllll}\n  & ZIPCODE & SIDO & GUGUN & DONG & RI & BUNJI & SEQ\\\\\n  & <fct> & <fct> & <fct> & <fct> & <fct> & <fct> & <int>\\\\\n\\hline\n\t1 & 135-806 & 서울 & 강남구 & 개포1동 & 경남아파트    & NA          &  1\\\\\n\t2 & 135-807 & 서울 & 강남구 & 개포1동 & 우성3차아파트 & (1∼6동)     &  2\\\\\n\t3 & 135-806 & 서울 & 강남구 & 개포1동 & 우성9차아파트 & (901∼902동) &  3\\\\\n\t4 & 135-770 & 서울 & 강남구 & 개포1동 & 주공아파트    & (1∼16동)    &  4\\\\\n\t5 & 135-805 & 서울 & 강남구 & 개포1동 & 주공아파트    & (17∼40동)   &  5\\\\\n\t6 & 135-966 & 서울 & 강남구 & 개포1동 & 주공아파트    & (41∼85동)   &  6\\\\\n\t7 & 135-807 & 서울 & 강남구 & 개포1동 & 주공아파트    & (86∼103동)  &  7\\\\\n\t8 & 135-805 & 서울 & 강남구 & 개포1동 & 주공아파트    & (104∼125동) &  8\\\\\n\t9 & 135-807 & 서울 & 강남구 & 개포1동 & 현대1차아파트 & (101∼106동) &  9\\\\\n\t10 & 135-805 & 서울 & 강남구 & 개포1동 & NA            & 565         & 10\\\\\n\t11 & 135-806 & 서울 & 강남구 & 개포1동 & NA            & 649∼651     & 11\\\\\n\t12 & 135-807 & 서울 & 강남구 & 개포1동 & NA            & 652∼653     & 12\\\\\n\t13 & 135-810 & 서울 & 강남구 & 개포1동 & NA            & 660         & 13\\\\\n\t14 & 135-241 & 서울 & 강남구 & 개포1동 & NA            & NA          & 14\\\\\n\t15 & 135-800 & 서울 & 강남구 & 개포2동 & 우성8차아파트 & (801∼803동) & 15\\\\\n\\end{tabular}\n",
            "text/markdown": "\nA data.frame: 15 × 7\n\n| <!--/--> | ZIPCODE &lt;fct&gt; | SIDO &lt;fct&gt; | GUGUN &lt;fct&gt; | DONG &lt;fct&gt; | RI &lt;fct&gt; | BUNJI &lt;fct&gt; | SEQ &lt;int&gt; |\n|---|---|---|---|---|---|---|---|\n| 1 | 135-806 | 서울 | 강남구 | 개포1동 | 경남아파트    | NA          |  1 |\n| 2 | 135-807 | 서울 | 강남구 | 개포1동 | 우성3차아파트 | (1∼6동)     |  2 |\n| 3 | 135-806 | 서울 | 강남구 | 개포1동 | 우성9차아파트 | (901∼902동) |  3 |\n| 4 | 135-770 | 서울 | 강남구 | 개포1동 | 주공아파트    | (1∼16동)    |  4 |\n| 5 | 135-805 | 서울 | 강남구 | 개포1동 | 주공아파트    | (17∼40동)   |  5 |\n| 6 | 135-966 | 서울 | 강남구 | 개포1동 | 주공아파트    | (41∼85동)   |  6 |\n| 7 | 135-807 | 서울 | 강남구 | 개포1동 | 주공아파트    | (86∼103동)  |  7 |\n| 8 | 135-805 | 서울 | 강남구 | 개포1동 | 주공아파트    | (104∼125동) |  8 |\n| 9 | 135-807 | 서울 | 강남구 | 개포1동 | 현대1차아파트 | (101∼106동) |  9 |\n| 10 | 135-805 | 서울 | 강남구 | 개포1동 | NA            | 565         | 10 |\n| 11 | 135-806 | 서울 | 강남구 | 개포1동 | NA            | 649∼651     | 11 |\n| 12 | 135-807 | 서울 | 강남구 | 개포1동 | NA            | 652∼653     | 12 |\n| 13 | 135-810 | 서울 | 강남구 | 개포1동 | NA            | 660         | 13 |\n| 14 | 135-241 | 서울 | 강남구 | 개포1동 | NA            | NA          | 14 |\n| 15 | 135-800 | 서울 | 강남구 | 개포2동 | 우성8차아파트 | (801∼803동) | 15 |\n\n",
            "text/html": [
              "<table>\n",
              "<caption>A data.frame: 15 × 7</caption>\n",
              "<thead>\n",
              "\t<tr><th></th><th scope=col>ZIPCODE</th><th scope=col>SIDO</th><th scope=col>GUGUN</th><th scope=col>DONG</th><th scope=col>RI</th><th scope=col>BUNJI</th><th scope=col>SEQ</th></tr>\n",
              "\t<tr><th></th><th scope=col>&lt;fct&gt;</th><th scope=col>&lt;fct&gt;</th><th scope=col>&lt;fct&gt;</th><th scope=col>&lt;fct&gt;</th><th scope=col>&lt;fct&gt;</th><th scope=col>&lt;fct&gt;</th><th scope=col>&lt;int&gt;</th></tr>\n",
              "</thead>\n",
              "<tbody>\n",
              "\t<tr><th scope=row>1</th><td>135-806</td><td>서울</td><td>강남구</td><td>개포1동</td><td>경남아파트   </td><td>NA         </td><td> 1</td></tr>\n",
              "\t<tr><th scope=row>2</th><td>135-807</td><td>서울</td><td>강남구</td><td>개포1동</td><td>우성3차아파트</td><td>(1∼6동)    </td><td> 2</td></tr>\n",
              "\t<tr><th scope=row>3</th><td>135-806</td><td>서울</td><td>강남구</td><td>개포1동</td><td>우성9차아파트</td><td>(901∼902동)</td><td> 3</td></tr>\n",
              "\t<tr><th scope=row>4</th><td>135-770</td><td>서울</td><td>강남구</td><td>개포1동</td><td>주공아파트   </td><td>(1∼16동)   </td><td> 4</td></tr>\n",
              "\t<tr><th scope=row>5</th><td>135-805</td><td>서울</td><td>강남구</td><td>개포1동</td><td>주공아파트   </td><td>(17∼40동)  </td><td> 5</td></tr>\n",
              "\t<tr><th scope=row>6</th><td>135-966</td><td>서울</td><td>강남구</td><td>개포1동</td><td>주공아파트   </td><td>(41∼85동)  </td><td> 6</td></tr>\n",
              "\t<tr><th scope=row>7</th><td>135-807</td><td>서울</td><td>강남구</td><td>개포1동</td><td>주공아파트   </td><td>(86∼103동) </td><td> 7</td></tr>\n",
              "\t<tr><th scope=row>8</th><td>135-805</td><td>서울</td><td>강남구</td><td>개포1동</td><td>주공아파트   </td><td>(104∼125동)</td><td> 8</td></tr>\n",
              "\t<tr><th scope=row>9</th><td>135-807</td><td>서울</td><td>강남구</td><td>개포1동</td><td>현대1차아파트</td><td>(101∼106동)</td><td> 9</td></tr>\n",
              "\t<tr><th scope=row>10</th><td>135-805</td><td>서울</td><td>강남구</td><td>개포1동</td><td>NA           </td><td>565        </td><td>10</td></tr>\n",
              "\t<tr><th scope=row>11</th><td>135-806</td><td>서울</td><td>강남구</td><td>개포1동</td><td>NA           </td><td>649∼651    </td><td>11</td></tr>\n",
              "\t<tr><th scope=row>12</th><td>135-807</td><td>서울</td><td>강남구</td><td>개포1동</td><td>NA           </td><td>652∼653    </td><td>12</td></tr>\n",
              "\t<tr><th scope=row>13</th><td>135-810</td><td>서울</td><td>강남구</td><td>개포1동</td><td>NA           </td><td>660        </td><td>13</td></tr>\n",
              "\t<tr><th scope=row>14</th><td>135-241</td><td>서울</td><td>강남구</td><td>개포1동</td><td>NA           </td><td>NA         </td><td>14</td></tr>\n",
              "\t<tr><th scope=row>15</th><td>135-800</td><td>서울</td><td>강남구</td><td>개포2동</td><td>우성8차아파트</td><td>(801∼803동)</td><td>15</td></tr>\n",
              "</tbody>\n",
              "</table>\n"
            ]
          },
          "metadata": {
            "tags": []
          }
        },
        {
          "output_type": "display_data",
          "data": {
            "text/plain": [
              "ZIPCODE    SIDO   GUGUN    DONG      RI   BUNJI     SEQ \n",
              "      0       0     186       0   20489   31541       0 "
            ],
            "text/latex": "\\begin{description*}\n\\item[ZIPCODE] 0\n\\item[SIDO] 0\n\\item[GUGUN] 186\n\\item[DONG] 0\n\\item[RI] 20489\n\\item[BUNJI] 31541\n\\item[SEQ] 0\n\\end{description*}\n",
            "text/markdown": "ZIPCODE\n:   0SIDO\n:   0GUGUN\n:   186DONG\n:   0RI\n:   20489BUNJI\n:   31541SEQ\n:   0\n\n",
            "text/html": [
              "<style>\n",
              ".dl-inline {width: auto; margin:0; padding: 0}\n",
              ".dl-inline>dt, .dl-inline>dd {float: none; width: auto; display: inline-block}\n",
              ".dl-inline>dt::after {content: \":\\0020\"; padding-right: .5ex}\n",
              ".dl-inline>dt:not(:first-of-type) {padding-left: .5ex}\n",
              "</style><dl class=dl-inline><dt>ZIPCODE</dt><dd>0</dd><dt>SIDO</dt><dd>0</dd><dt>GUGUN</dt><dd>186</dd><dt>DONG</dt><dd>0</dd><dt>RI</dt><dd>20489</dd><dt>BUNJI</dt><dd>31541</dd><dt>SEQ</dt><dd>0</dd></dl>\n"
            ]
          },
          "metadata": {
            "tags": []
          }
        }
      ]
    },
    {
      "cell_type": "code",
      "metadata": {
        "id": "6zEKfEfuWJIX",
        "outputId": "84e027f3-b328-423c-b9a5-357fae9292f4",
        "colab": {
          "base_uri": "https://localhost:8080/",
          "height": 410
        }
      },
      "source": [
        "# 사원 데이터 읽어오기\n",
        "empl <- read.csv('https://raw.githubusercontent.com/kjoonp/R_statistics/master/dataset_4', na.strings = '')\n",
        "head(empl, 15)\n",
        "colSums(is.na(empl))"
      ],
      "execution_count": null,
      "outputs": [
        {
          "output_type": "display_data",
          "data": {
            "text/plain": [
              "   EMPLOYEE_ID FIRST_NAME  LAST_NAME EMAIL    PHONE_NUMBER HIRE_DATE \n",
              "1  100         Steven      King      SKING    515.123.4567 2003-06-17\n",
              "2  101         Neena       Kochhar   NKOCHHAR 515.123.4568 2005-09-21\n",
              "3  102         Lex         De Haan   LDEHAAN  515.123.4569 2001-01-13\n",
              "4  103         Alexander   Hunold    AHUNOLD  590.423.4567 2006-01-03\n",
              "5  104         Bruce       Ernst     BERNST   590.423.4568 2007-05-21\n",
              "6  105         David       Austin    DAUSTIN  590.423.4569 2005-06-25\n",
              "7  106         Valli       Pataballa VPATABAL 590.423.4560 2006-02-05\n",
              "8  107         Diana       Lorentz   DLORENTZ 590.423.5567 2007-02-07\n",
              "9  108         Nancy       Greenberg NGREENBE 515.124.4569 2002-08-17\n",
              "10 109         Daniel      Faviet    DFAVIET  515.124.4169 2002-08-16\n",
              "11 110         John        Chen      JCHEN    515.124.4269 2005-09-28\n",
              "12 111         Ismael      Sciarra   ISCIARRA 515.124.4369 2005-09-30\n",
              "13 112         Jose Manuel Urman     JMURMAN  515.124.4469 2006-03-07\n",
              "14 113         Luis        Popp      LPOPP    515.124.4567 2007-12-07\n",
              "15 114         Den         Raphaely  DRAPHEAL 515.127.4561 2002-12-07\n",
              "   JOB_ID     SALARY COMMISSION_PCT MANAGER_ID DEPARTMENT_ID\n",
              "1  AD_PRES    24000  NA              NA         90          \n",
              "2  AD_VP      17000  NA             100         90          \n",
              "3  AD_VP      17000  NA             100         90          \n",
              "4  IT_PROG     9000  NA             102         60          \n",
              "5  IT_PROG     6000  NA             103         60          \n",
              "6  IT_PROG     4800  NA             103         60          \n",
              "7  IT_PROG     4800  NA             103         60          \n",
              "8  IT_PROG     4200  NA             103         60          \n",
              "9  FI_MGR     12008  NA             101        100          \n",
              "10 FI_ACCOUNT  9000  NA             108        100          \n",
              "11 FI_ACCOUNT  8200  NA             108        100          \n",
              "12 FI_ACCOUNT  7700  NA             108        100          \n",
              "13 FI_ACCOUNT  7800  NA             108        100          \n",
              "14 FI_ACCOUNT  6900  NA             108        100          \n",
              "15 PU_MAN     11000  NA             100         30          "
            ],
            "text/latex": "A data.frame: 15 × 11\n\\begin{tabular}{r|lllllllllll}\n  & EMPLOYEE\\_ID & FIRST\\_NAME & LAST\\_NAME & EMAIL & PHONE\\_NUMBER & HIRE\\_DATE & JOB\\_ID & SALARY & COMMISSION\\_PCT & MANAGER\\_ID & DEPARTMENT\\_ID\\\\\n  & <int> & <fct> & <fct> & <fct> & <fct> & <fct> & <fct> & <int> & <dbl> & <int> & <int>\\\\\n\\hline\n\t1 & 100 & Steven      & King      & SKING    & 515.123.4567 & 2003-06-17 & AD\\_PRES    & 24000 & NA &  NA &  90\\\\\n\t2 & 101 & Neena       & Kochhar   & NKOCHHAR & 515.123.4568 & 2005-09-21 & AD\\_VP      & 17000 & NA & 100 &  90\\\\\n\t3 & 102 & Lex         & De Haan   & LDEHAAN  & 515.123.4569 & 2001-01-13 & AD\\_VP      & 17000 & NA & 100 &  90\\\\\n\t4 & 103 & Alexander   & Hunold    & AHUNOLD  & 590.423.4567 & 2006-01-03 & IT\\_PROG    &  9000 & NA & 102 &  60\\\\\n\t5 & 104 & Bruce       & Ernst     & BERNST   & 590.423.4568 & 2007-05-21 & IT\\_PROG    &  6000 & NA & 103 &  60\\\\\n\t6 & 105 & David       & Austin    & DAUSTIN  & 590.423.4569 & 2005-06-25 & IT\\_PROG    &  4800 & NA & 103 &  60\\\\\n\t7 & 106 & Valli       & Pataballa & VPATABAL & 590.423.4560 & 2006-02-05 & IT\\_PROG    &  4800 & NA & 103 &  60\\\\\n\t8 & 107 & Diana       & Lorentz   & DLORENTZ & 590.423.5567 & 2007-02-07 & IT\\_PROG    &  4200 & NA & 103 &  60\\\\\n\t9 & 108 & Nancy       & Greenberg & NGREENBE & 515.124.4569 & 2002-08-17 & FI\\_MGR     & 12008 & NA & 101 & 100\\\\\n\t10 & 109 & Daniel      & Faviet    & DFAVIET  & 515.124.4169 & 2002-08-16 & FI\\_ACCOUNT &  9000 & NA & 108 & 100\\\\\n\t11 & 110 & John        & Chen      & JCHEN    & 515.124.4269 & 2005-09-28 & FI\\_ACCOUNT &  8200 & NA & 108 & 100\\\\\n\t12 & 111 & Ismael      & Sciarra   & ISCIARRA & 515.124.4369 & 2005-09-30 & FI\\_ACCOUNT &  7700 & NA & 108 & 100\\\\\n\t13 & 112 & Jose Manuel & Urman     & JMURMAN  & 515.124.4469 & 2006-03-07 & FI\\_ACCOUNT &  7800 & NA & 108 & 100\\\\\n\t14 & 113 & Luis        & Popp      & LPOPP    & 515.124.4567 & 2007-12-07 & FI\\_ACCOUNT &  6900 & NA & 108 & 100\\\\\n\t15 & 114 & Den         & Raphaely  & DRAPHEAL & 515.127.4561 & 2002-12-07 & PU\\_MAN     & 11000 & NA & 100 &  30\\\\\n\\end{tabular}\n",
            "text/markdown": "\nA data.frame: 15 × 11\n\n| <!--/--> | EMPLOYEE_ID &lt;int&gt; | FIRST_NAME &lt;fct&gt; | LAST_NAME &lt;fct&gt; | EMAIL &lt;fct&gt; | PHONE_NUMBER &lt;fct&gt; | HIRE_DATE &lt;fct&gt; | JOB_ID &lt;fct&gt; | SALARY &lt;int&gt; | COMMISSION_PCT &lt;dbl&gt; | MANAGER_ID &lt;int&gt; | DEPARTMENT_ID &lt;int&gt; |\n|---|---|---|---|---|---|---|---|---|---|---|---|\n| 1 | 100 | Steven      | King      | SKING    | 515.123.4567 | 2003-06-17 | AD_PRES    | 24000 | NA |  NA |  90 |\n| 2 | 101 | Neena       | Kochhar   | NKOCHHAR | 515.123.4568 | 2005-09-21 | AD_VP      | 17000 | NA | 100 |  90 |\n| 3 | 102 | Lex         | De Haan   | LDEHAAN  | 515.123.4569 | 2001-01-13 | AD_VP      | 17000 | NA | 100 |  90 |\n| 4 | 103 | Alexander   | Hunold    | AHUNOLD  | 590.423.4567 | 2006-01-03 | IT_PROG    |  9000 | NA | 102 |  60 |\n| 5 | 104 | Bruce       | Ernst     | BERNST   | 590.423.4568 | 2007-05-21 | IT_PROG    |  6000 | NA | 103 |  60 |\n| 6 | 105 | David       | Austin    | DAUSTIN  | 590.423.4569 | 2005-06-25 | IT_PROG    |  4800 | NA | 103 |  60 |\n| 7 | 106 | Valli       | Pataballa | VPATABAL | 590.423.4560 | 2006-02-05 | IT_PROG    |  4800 | NA | 103 |  60 |\n| 8 | 107 | Diana       | Lorentz   | DLORENTZ | 590.423.5567 | 2007-02-07 | IT_PROG    |  4200 | NA | 103 |  60 |\n| 9 | 108 | Nancy       | Greenberg | NGREENBE | 515.124.4569 | 2002-08-17 | FI_MGR     | 12008 | NA | 101 | 100 |\n| 10 | 109 | Daniel      | Faviet    | DFAVIET  | 515.124.4169 | 2002-08-16 | FI_ACCOUNT |  9000 | NA | 108 | 100 |\n| 11 | 110 | John        | Chen      | JCHEN    | 515.124.4269 | 2005-09-28 | FI_ACCOUNT |  8200 | NA | 108 | 100 |\n| 12 | 111 | Ismael      | Sciarra   | ISCIARRA | 515.124.4369 | 2005-09-30 | FI_ACCOUNT |  7700 | NA | 108 | 100 |\n| 13 | 112 | Jose Manuel | Urman     | JMURMAN  | 515.124.4469 | 2006-03-07 | FI_ACCOUNT |  7800 | NA | 108 | 100 |\n| 14 | 113 | Luis        | Popp      | LPOPP    | 515.124.4567 | 2007-12-07 | FI_ACCOUNT |  6900 | NA | 108 | 100 |\n| 15 | 114 | Den         | Raphaely  | DRAPHEAL | 515.127.4561 | 2002-12-07 | PU_MAN     | 11000 | NA | 100 |  30 |\n\n",
            "text/html": [
              "<table>\n",
              "<caption>A data.frame: 15 × 11</caption>\n",
              "<thead>\n",
              "\t<tr><th></th><th scope=col>EMPLOYEE_ID</th><th scope=col>FIRST_NAME</th><th scope=col>LAST_NAME</th><th scope=col>EMAIL</th><th scope=col>PHONE_NUMBER</th><th scope=col>HIRE_DATE</th><th scope=col>JOB_ID</th><th scope=col>SALARY</th><th scope=col>COMMISSION_PCT</th><th scope=col>MANAGER_ID</th><th scope=col>DEPARTMENT_ID</th></tr>\n",
              "\t<tr><th></th><th scope=col>&lt;int&gt;</th><th scope=col>&lt;fct&gt;</th><th scope=col>&lt;fct&gt;</th><th scope=col>&lt;fct&gt;</th><th scope=col>&lt;fct&gt;</th><th scope=col>&lt;fct&gt;</th><th scope=col>&lt;fct&gt;</th><th scope=col>&lt;int&gt;</th><th scope=col>&lt;dbl&gt;</th><th scope=col>&lt;int&gt;</th><th scope=col>&lt;int&gt;</th></tr>\n",
              "</thead>\n",
              "<tbody>\n",
              "\t<tr><th scope=row>1</th><td>100</td><td>Steven     </td><td>King     </td><td>SKING   </td><td>515.123.4567</td><td>2003-06-17</td><td>AD_PRES   </td><td>24000</td><td>NA</td><td> NA</td><td> 90</td></tr>\n",
              "\t<tr><th scope=row>2</th><td>101</td><td>Neena      </td><td>Kochhar  </td><td>NKOCHHAR</td><td>515.123.4568</td><td>2005-09-21</td><td>AD_VP     </td><td>17000</td><td>NA</td><td>100</td><td> 90</td></tr>\n",
              "\t<tr><th scope=row>3</th><td>102</td><td>Lex        </td><td>De Haan  </td><td>LDEHAAN </td><td>515.123.4569</td><td>2001-01-13</td><td>AD_VP     </td><td>17000</td><td>NA</td><td>100</td><td> 90</td></tr>\n",
              "\t<tr><th scope=row>4</th><td>103</td><td>Alexander  </td><td>Hunold   </td><td>AHUNOLD </td><td>590.423.4567</td><td>2006-01-03</td><td>IT_PROG   </td><td> 9000</td><td>NA</td><td>102</td><td> 60</td></tr>\n",
              "\t<tr><th scope=row>5</th><td>104</td><td>Bruce      </td><td>Ernst    </td><td>BERNST  </td><td>590.423.4568</td><td>2007-05-21</td><td>IT_PROG   </td><td> 6000</td><td>NA</td><td>103</td><td> 60</td></tr>\n",
              "\t<tr><th scope=row>6</th><td>105</td><td>David      </td><td>Austin   </td><td>DAUSTIN </td><td>590.423.4569</td><td>2005-06-25</td><td>IT_PROG   </td><td> 4800</td><td>NA</td><td>103</td><td> 60</td></tr>\n",
              "\t<tr><th scope=row>7</th><td>106</td><td>Valli      </td><td>Pataballa</td><td>VPATABAL</td><td>590.423.4560</td><td>2006-02-05</td><td>IT_PROG   </td><td> 4800</td><td>NA</td><td>103</td><td> 60</td></tr>\n",
              "\t<tr><th scope=row>8</th><td>107</td><td>Diana      </td><td>Lorentz  </td><td>DLORENTZ</td><td>590.423.5567</td><td>2007-02-07</td><td>IT_PROG   </td><td> 4200</td><td>NA</td><td>103</td><td> 60</td></tr>\n",
              "\t<tr><th scope=row>9</th><td>108</td><td>Nancy      </td><td>Greenberg</td><td>NGREENBE</td><td>515.124.4569</td><td>2002-08-17</td><td>FI_MGR    </td><td>12008</td><td>NA</td><td>101</td><td>100</td></tr>\n",
              "\t<tr><th scope=row>10</th><td>109</td><td>Daniel     </td><td>Faviet   </td><td>DFAVIET </td><td>515.124.4169</td><td>2002-08-16</td><td>FI_ACCOUNT</td><td> 9000</td><td>NA</td><td>108</td><td>100</td></tr>\n",
              "\t<tr><th scope=row>11</th><td>110</td><td>John       </td><td>Chen     </td><td>JCHEN   </td><td>515.124.4269</td><td>2005-09-28</td><td>FI_ACCOUNT</td><td> 8200</td><td>NA</td><td>108</td><td>100</td></tr>\n",
              "\t<tr><th scope=row>12</th><td>111</td><td>Ismael     </td><td>Sciarra  </td><td>ISCIARRA</td><td>515.124.4369</td><td>2005-09-30</td><td>FI_ACCOUNT</td><td> 7700</td><td>NA</td><td>108</td><td>100</td></tr>\n",
              "\t<tr><th scope=row>13</th><td>112</td><td>Jose Manuel</td><td>Urman    </td><td>JMURMAN </td><td>515.124.4469</td><td>2006-03-07</td><td>FI_ACCOUNT</td><td> 7800</td><td>NA</td><td>108</td><td>100</td></tr>\n",
              "\t<tr><th scope=row>14</th><td>113</td><td>Luis       </td><td>Popp     </td><td>LPOPP   </td><td>515.124.4567</td><td>2007-12-07</td><td>FI_ACCOUNT</td><td> 6900</td><td>NA</td><td>108</td><td>100</td></tr>\n",
              "\t<tr><th scope=row>15</th><td>114</td><td>Den        </td><td>Raphaely </td><td>DRAPHEAL</td><td>515.127.4561</td><td>2002-12-07</td><td>PU_MAN    </td><td>11000</td><td>NA</td><td>100</td><td> 30</td></tr>\n",
              "</tbody>\n",
              "</table>\n"
            ]
          },
          "metadata": {
            "tags": []
          }
        },
        {
          "output_type": "display_data",
          "data": {
            "text/plain": [
              "   EMPLOYEE_ID     FIRST_NAME      LAST_NAME          EMAIL   PHONE_NUMBER \n",
              "             0              0              0              0              0 \n",
              "     HIRE_DATE         JOB_ID         SALARY COMMISSION_PCT     MANAGER_ID \n",
              "             0              0              0             72              1 \n",
              " DEPARTMENT_ID \n",
              "             1 "
            ],
            "text/latex": "\\begin{description*}\n\\item[EMPLOYEE\\textbackslash{}\\_ID] 0\n\\item[FIRST\\textbackslash{}\\_NAME] 0\n\\item[LAST\\textbackslash{}\\_NAME] 0\n\\item[EMAIL] 0\n\\item[PHONE\\textbackslash{}\\_NUMBER] 0\n\\item[HIRE\\textbackslash{}\\_DATE] 0\n\\item[JOB\\textbackslash{}\\_ID] 0\n\\item[SALARY] 0\n\\item[COMMISSION\\textbackslash{}\\_PCT] 72\n\\item[MANAGER\\textbackslash{}\\_ID] 1\n\\item[DEPARTMENT\\textbackslash{}\\_ID] 1\n\\end{description*}\n",
            "text/markdown": "EMPLOYEE_ID\n:   0FIRST_NAME\n:   0LAST_NAME\n:   0EMAIL\n:   0PHONE_NUMBER\n:   0HIRE_DATE\n:   0JOB_ID\n:   0SALARY\n:   0COMMISSION_PCT\n:   72MANAGER_ID\n:   1DEPARTMENT_ID\n:   1\n\n",
            "text/html": [
              "<style>\n",
              ".dl-inline {width: auto; margin:0; padding: 0}\n",
              ".dl-inline>dt, .dl-inline>dd {float: none; width: auto; display: inline-block}\n",
              ".dl-inline>dt::after {content: \":\\0020\"; padding-right: .5ex}\n",
              ".dl-inline>dt:not(:first-of-type) {padding-left: .5ex}\n",
              "</style><dl class=dl-inline><dt>EMPLOYEE_ID</dt><dd>0</dd><dt>FIRST_NAME</dt><dd>0</dd><dt>LAST_NAME</dt><dd>0</dd><dt>EMAIL</dt><dd>0</dd><dt>PHONE_NUMBER</dt><dd>0</dd><dt>HIRE_DATE</dt><dd>0</dd><dt>JOB_ID</dt><dd>0</dd><dt>SALARY</dt><dd>0</dd><dt>COMMISSION_PCT</dt><dd>72</dd><dt>MANAGER_ID</dt><dd>1</dd><dt>DEPARTMENT_ID</dt><dd>1</dd></dl>\n"
            ]
          },
          "metadata": {
            "tags": []
          }
        }
      ]
    },
    {
      "cell_type": "code",
      "metadata": {
        "id": "tpfydN-AYxkH",
        "outputId": "916ab3db-1c7c-472f-f094-2466f966ec43",
        "colab": {
          "base_uri": "https://localhost:8080/",
          "height": 288
        }
      },
      "source": [
        "tail(empl,10)"
      ],
      "execution_count": null,
      "outputs": [
        {
          "output_type": "display_data",
          "data": {
            "text/plain": [
              "    EMPLOYEE_ID FIRST_NAME LAST_NAME EMAIL    PHONE_NUMBER HIRE_DATE \n",
              "98  197         Kevin      Feeney    KFEENEY  650.507.9822 2006-05-23\n",
              "99  198         Donald     OConnell  DOCONNEL 650.507.9833 2007-06-21\n",
              "100 199         Douglas    Grant     DGRANT   650.507.9844 2008-01-13\n",
              "101 200         Jennifer   Whalen    JWHALEN  515.123.4444 2003-09-17\n",
              "102 201         Michael    Hartstein MHARTSTE 515.123.5555 2004-02-17\n",
              "103 202         Pat        Fay       PFAY     603.123.6666 2005-08-17\n",
              "104 203         Susan      Mavris    SMAVRIS  515.123.7777 2002-06-07\n",
              "105 204         Hermann    Baer      HBAER    515.123.8888 2002-06-07\n",
              "106 205         Shelley    Higgins   SHIGGINS 515.123.8080 2002-06-07\n",
              "107 206         William    Gietz     WGIETZ   515.123.8181 2002-06-07\n",
              "    JOB_ID     SALARY COMMISSION_PCT MANAGER_ID DEPARTMENT_ID\n",
              "98  SH_CLERK    3000  NA             124         50          \n",
              "99  SH_CLERK    2600  NA             124         50          \n",
              "100 SH_CLERK    2600  NA             124         50          \n",
              "101 AD_ASST     4400  NA             101         10          \n",
              "102 MK_MAN     13000  NA             100         20          \n",
              "103 MK_REP      6000  NA             201         20          \n",
              "104 HR_REP      6500  NA             101         40          \n",
              "105 PR_REP     10000  NA             101         70          \n",
              "106 AC_MGR     12008  NA             101        110          \n",
              "107 AC_ACCOUNT  8300  NA             205        110          "
            ],
            "text/latex": "A data.frame: 10 × 11\n\\begin{tabular}{r|lllllllllll}\n  & EMPLOYEE\\_ID & FIRST\\_NAME & LAST\\_NAME & EMAIL & PHONE\\_NUMBER & HIRE\\_DATE & JOB\\_ID & SALARY & COMMISSION\\_PCT & MANAGER\\_ID & DEPARTMENT\\_ID\\\\\n  & <int> & <fct> & <fct> & <fct> & <fct> & <fct> & <fct> & <int> & <dbl> & <int> & <int>\\\\\n\\hline\n\t98 & 197 & Kevin    & Feeney    & KFEENEY  & 650.507.9822 & 2006-05-23 & SH\\_CLERK   &  3000 & NA & 124 &  50\\\\\n\t99 & 198 & Donald   & OConnell  & DOCONNEL & 650.507.9833 & 2007-06-21 & SH\\_CLERK   &  2600 & NA & 124 &  50\\\\\n\t100 & 199 & Douglas  & Grant     & DGRANT   & 650.507.9844 & 2008-01-13 & SH\\_CLERK   &  2600 & NA & 124 &  50\\\\\n\t101 & 200 & Jennifer & Whalen    & JWHALEN  & 515.123.4444 & 2003-09-17 & AD\\_ASST    &  4400 & NA & 101 &  10\\\\\n\t102 & 201 & Michael  & Hartstein & MHARTSTE & 515.123.5555 & 2004-02-17 & MK\\_MAN     & 13000 & NA & 100 &  20\\\\\n\t103 & 202 & Pat      & Fay       & PFAY     & 603.123.6666 & 2005-08-17 & MK\\_REP     &  6000 & NA & 201 &  20\\\\\n\t104 & 203 & Susan    & Mavris    & SMAVRIS  & 515.123.7777 & 2002-06-07 & HR\\_REP     &  6500 & NA & 101 &  40\\\\\n\t105 & 204 & Hermann  & Baer      & HBAER    & 515.123.8888 & 2002-06-07 & PR\\_REP     & 10000 & NA & 101 &  70\\\\\n\t106 & 205 & Shelley  & Higgins   & SHIGGINS & 515.123.8080 & 2002-06-07 & AC\\_MGR     & 12008 & NA & 101 & 110\\\\\n\t107 & 206 & William  & Gietz     & WGIETZ   & 515.123.8181 & 2002-06-07 & AC\\_ACCOUNT &  8300 & NA & 205 & 110\\\\\n\\end{tabular}\n",
            "text/markdown": "\nA data.frame: 10 × 11\n\n| <!--/--> | EMPLOYEE_ID &lt;int&gt; | FIRST_NAME &lt;fct&gt; | LAST_NAME &lt;fct&gt; | EMAIL &lt;fct&gt; | PHONE_NUMBER &lt;fct&gt; | HIRE_DATE &lt;fct&gt; | JOB_ID &lt;fct&gt; | SALARY &lt;int&gt; | COMMISSION_PCT &lt;dbl&gt; | MANAGER_ID &lt;int&gt; | DEPARTMENT_ID &lt;int&gt; |\n|---|---|---|---|---|---|---|---|---|---|---|---|\n| 98 | 197 | Kevin    | Feeney    | KFEENEY  | 650.507.9822 | 2006-05-23 | SH_CLERK   |  3000 | NA | 124 |  50 |\n| 99 | 198 | Donald   | OConnell  | DOCONNEL | 650.507.9833 | 2007-06-21 | SH_CLERK   |  2600 | NA | 124 |  50 |\n| 100 | 199 | Douglas  | Grant     | DGRANT   | 650.507.9844 | 2008-01-13 | SH_CLERK   |  2600 | NA | 124 |  50 |\n| 101 | 200 | Jennifer | Whalen    | JWHALEN  | 515.123.4444 | 2003-09-17 | AD_ASST    |  4400 | NA | 101 |  10 |\n| 102 | 201 | Michael  | Hartstein | MHARTSTE | 515.123.5555 | 2004-02-17 | MK_MAN     | 13000 | NA | 100 |  20 |\n| 103 | 202 | Pat      | Fay       | PFAY     | 603.123.6666 | 2005-08-17 | MK_REP     |  6000 | NA | 201 |  20 |\n| 104 | 203 | Susan    | Mavris    | SMAVRIS  | 515.123.7777 | 2002-06-07 | HR_REP     |  6500 | NA | 101 |  40 |\n| 105 | 204 | Hermann  | Baer      | HBAER    | 515.123.8888 | 2002-06-07 | PR_REP     | 10000 | NA | 101 |  70 |\n| 106 | 205 | Shelley  | Higgins   | SHIGGINS | 515.123.8080 | 2002-06-07 | AC_MGR     | 12008 | NA | 101 | 110 |\n| 107 | 206 | William  | Gietz     | WGIETZ   | 515.123.8181 | 2002-06-07 | AC_ACCOUNT |  8300 | NA | 205 | 110 |\n\n",
            "text/html": [
              "<table>\n",
              "<caption>A data.frame: 10 × 11</caption>\n",
              "<thead>\n",
              "\t<tr><th></th><th scope=col>EMPLOYEE_ID</th><th scope=col>FIRST_NAME</th><th scope=col>LAST_NAME</th><th scope=col>EMAIL</th><th scope=col>PHONE_NUMBER</th><th scope=col>HIRE_DATE</th><th scope=col>JOB_ID</th><th scope=col>SALARY</th><th scope=col>COMMISSION_PCT</th><th scope=col>MANAGER_ID</th><th scope=col>DEPARTMENT_ID</th></tr>\n",
              "\t<tr><th></th><th scope=col>&lt;int&gt;</th><th scope=col>&lt;fct&gt;</th><th scope=col>&lt;fct&gt;</th><th scope=col>&lt;fct&gt;</th><th scope=col>&lt;fct&gt;</th><th scope=col>&lt;fct&gt;</th><th scope=col>&lt;fct&gt;</th><th scope=col>&lt;int&gt;</th><th scope=col>&lt;dbl&gt;</th><th scope=col>&lt;int&gt;</th><th scope=col>&lt;int&gt;</th></tr>\n",
              "</thead>\n",
              "<tbody>\n",
              "\t<tr><th scope=row>98</th><td>197</td><td>Kevin   </td><td>Feeney   </td><td>KFEENEY </td><td>650.507.9822</td><td>2006-05-23</td><td>SH_CLERK  </td><td> 3000</td><td>NA</td><td>124</td><td> 50</td></tr>\n",
              "\t<tr><th scope=row>99</th><td>198</td><td>Donald  </td><td>OConnell </td><td>DOCONNEL</td><td>650.507.9833</td><td>2007-06-21</td><td>SH_CLERK  </td><td> 2600</td><td>NA</td><td>124</td><td> 50</td></tr>\n",
              "\t<tr><th scope=row>100</th><td>199</td><td>Douglas </td><td>Grant    </td><td>DGRANT  </td><td>650.507.9844</td><td>2008-01-13</td><td>SH_CLERK  </td><td> 2600</td><td>NA</td><td>124</td><td> 50</td></tr>\n",
              "\t<tr><th scope=row>101</th><td>200</td><td>Jennifer</td><td>Whalen   </td><td>JWHALEN </td><td>515.123.4444</td><td>2003-09-17</td><td>AD_ASST   </td><td> 4400</td><td>NA</td><td>101</td><td> 10</td></tr>\n",
              "\t<tr><th scope=row>102</th><td>201</td><td>Michael </td><td>Hartstein</td><td>MHARTSTE</td><td>515.123.5555</td><td>2004-02-17</td><td>MK_MAN    </td><td>13000</td><td>NA</td><td>100</td><td> 20</td></tr>\n",
              "\t<tr><th scope=row>103</th><td>202</td><td>Pat     </td><td>Fay      </td><td>PFAY    </td><td>603.123.6666</td><td>2005-08-17</td><td>MK_REP    </td><td> 6000</td><td>NA</td><td>201</td><td> 20</td></tr>\n",
              "\t<tr><th scope=row>104</th><td>203</td><td>Susan   </td><td>Mavris   </td><td>SMAVRIS </td><td>515.123.7777</td><td>2002-06-07</td><td>HR_REP    </td><td> 6500</td><td>NA</td><td>101</td><td> 40</td></tr>\n",
              "\t<tr><th scope=row>105</th><td>204</td><td>Hermann </td><td>Baer     </td><td>HBAER   </td><td>515.123.8888</td><td>2002-06-07</td><td>PR_REP    </td><td>10000</td><td>NA</td><td>101</td><td> 70</td></tr>\n",
              "\t<tr><th scope=row>106</th><td>205</td><td>Shelley </td><td>Higgins  </td><td>SHIGGINS</td><td>515.123.8080</td><td>2002-06-07</td><td>AC_MGR    </td><td>12008</td><td>NA</td><td>101</td><td>110</td></tr>\n",
              "\t<tr><th scope=row>107</th><td>206</td><td>William </td><td>Gietz    </td><td>WGIETZ  </td><td>515.123.8181</td><td>2002-06-07</td><td>AC_ACCOUNT</td><td> 8300</td><td>NA</td><td>205</td><td>110</td></tr>\n",
              "</tbody>\n",
              "</table>\n"
            ]
          },
          "metadata": {
            "tags": []
          }
        }
      ]
    },
    {
      "cell_type": "code",
      "metadata": {
        "id": "7gyFzsizZ84D",
        "outputId": "7e56a230-3186-42bd-d1a7-997a0222bb21",
        "colab": {
          "base_uri": "https://localhost:8080/",
          "height": 288
        }
      },
      "source": [
        "#수당이 없는 사원을 대상으로 NA=0 으로 변경)\n",
        "cnd <-  is.na(empl$COMMISSION_PCT)\n",
        "empl$COMMISSION_PCT[cnd] <- 0\n",
        "head(empl, 10)"
      ],
      "execution_count": null,
      "outputs": [
        {
          "output_type": "display_data",
          "data": {
            "text/plain": [
              "   EMPLOYEE_ID FIRST_NAME LAST_NAME EMAIL    PHONE_NUMBER HIRE_DATE  JOB_ID    \n",
              "1  100         Steven     King      SKING    515.123.4567 2003-06-17 AD_PRES   \n",
              "2  101         Neena      Kochhar   NKOCHHAR 515.123.4568 2005-09-21 AD_VP     \n",
              "3  102         Lex        De Haan   LDEHAAN  515.123.4569 2001-01-13 AD_VP     \n",
              "4  103         Alexander  Hunold    AHUNOLD  590.423.4567 2006-01-03 IT_PROG   \n",
              "5  104         Bruce      Ernst     BERNST   590.423.4568 2007-05-21 IT_PROG   \n",
              "6  105         David      Austin    DAUSTIN  590.423.4569 2005-06-25 IT_PROG   \n",
              "7  106         Valli      Pataballa VPATABAL 590.423.4560 2006-02-05 IT_PROG   \n",
              "8  107         Diana      Lorentz   DLORENTZ 590.423.5567 2007-02-07 IT_PROG   \n",
              "9  108         Nancy      Greenberg NGREENBE 515.124.4569 2002-08-17 FI_MGR    \n",
              "10 109         Daniel     Faviet    DFAVIET  515.124.4169 2002-08-16 FI_ACCOUNT\n",
              "   SALARY COMMISSION_PCT MANAGER_ID DEPARTMENT_ID\n",
              "1  24000  0               NA         90          \n",
              "2  17000  0              100         90          \n",
              "3  17000  0              100         90          \n",
              "4   9000  0              102         60          \n",
              "5   6000  0              103         60          \n",
              "6   4800  0              103         60          \n",
              "7   4800  0              103         60          \n",
              "8   4200  0              103         60          \n",
              "9  12008  0              101        100          \n",
              "10  9000  0              108        100          "
            ],
            "text/latex": "A data.frame: 10 × 11\n\\begin{tabular}{r|lllllllllll}\n  & EMPLOYEE\\_ID & FIRST\\_NAME & LAST\\_NAME & EMAIL & PHONE\\_NUMBER & HIRE\\_DATE & JOB\\_ID & SALARY & COMMISSION\\_PCT & MANAGER\\_ID & DEPARTMENT\\_ID\\\\\n  & <int> & <fct> & <fct> & <fct> & <fct> & <fct> & <fct> & <int> & <dbl> & <int> & <int>\\\\\n\\hline\n\t1 & 100 & Steven    & King      & SKING    & 515.123.4567 & 2003-06-17 & AD\\_PRES    & 24000 & 0 &  NA &  90\\\\\n\t2 & 101 & Neena     & Kochhar   & NKOCHHAR & 515.123.4568 & 2005-09-21 & AD\\_VP      & 17000 & 0 & 100 &  90\\\\\n\t3 & 102 & Lex       & De Haan   & LDEHAAN  & 515.123.4569 & 2001-01-13 & AD\\_VP      & 17000 & 0 & 100 &  90\\\\\n\t4 & 103 & Alexander & Hunold    & AHUNOLD  & 590.423.4567 & 2006-01-03 & IT\\_PROG    &  9000 & 0 & 102 &  60\\\\\n\t5 & 104 & Bruce     & Ernst     & BERNST   & 590.423.4568 & 2007-05-21 & IT\\_PROG    &  6000 & 0 & 103 &  60\\\\\n\t6 & 105 & David     & Austin    & DAUSTIN  & 590.423.4569 & 2005-06-25 & IT\\_PROG    &  4800 & 0 & 103 &  60\\\\\n\t7 & 106 & Valli     & Pataballa & VPATABAL & 590.423.4560 & 2006-02-05 & IT\\_PROG    &  4800 & 0 & 103 &  60\\\\\n\t8 & 107 & Diana     & Lorentz   & DLORENTZ & 590.423.5567 & 2007-02-07 & IT\\_PROG    &  4200 & 0 & 103 &  60\\\\\n\t9 & 108 & Nancy     & Greenberg & NGREENBE & 515.124.4569 & 2002-08-17 & FI\\_MGR     & 12008 & 0 & 101 & 100\\\\\n\t10 & 109 & Daniel    & Faviet    & DFAVIET  & 515.124.4169 & 2002-08-16 & FI\\_ACCOUNT &  9000 & 0 & 108 & 100\\\\\n\\end{tabular}\n",
            "text/markdown": "\nA data.frame: 10 × 11\n\n| <!--/--> | EMPLOYEE_ID &lt;int&gt; | FIRST_NAME &lt;fct&gt; | LAST_NAME &lt;fct&gt; | EMAIL &lt;fct&gt; | PHONE_NUMBER &lt;fct&gt; | HIRE_DATE &lt;fct&gt; | JOB_ID &lt;fct&gt; | SALARY &lt;int&gt; | COMMISSION_PCT &lt;dbl&gt; | MANAGER_ID &lt;int&gt; | DEPARTMENT_ID &lt;int&gt; |\n|---|---|---|---|---|---|---|---|---|---|---|---|\n| 1 | 100 | Steven    | King      | SKING    | 515.123.4567 | 2003-06-17 | AD_PRES    | 24000 | 0 |  NA |  90 |\n| 2 | 101 | Neena     | Kochhar   | NKOCHHAR | 515.123.4568 | 2005-09-21 | AD_VP      | 17000 | 0 | 100 |  90 |\n| 3 | 102 | Lex       | De Haan   | LDEHAAN  | 515.123.4569 | 2001-01-13 | AD_VP      | 17000 | 0 | 100 |  90 |\n| 4 | 103 | Alexander | Hunold    | AHUNOLD  | 590.423.4567 | 2006-01-03 | IT_PROG    |  9000 | 0 | 102 |  60 |\n| 5 | 104 | Bruce     | Ernst     | BERNST   | 590.423.4568 | 2007-05-21 | IT_PROG    |  6000 | 0 | 103 |  60 |\n| 6 | 105 | David     | Austin    | DAUSTIN  | 590.423.4569 | 2005-06-25 | IT_PROG    |  4800 | 0 | 103 |  60 |\n| 7 | 106 | Valli     | Pataballa | VPATABAL | 590.423.4560 | 2006-02-05 | IT_PROG    |  4800 | 0 | 103 |  60 |\n| 8 | 107 | Diana     | Lorentz   | DLORENTZ | 590.423.5567 | 2007-02-07 | IT_PROG    |  4200 | 0 | 103 |  60 |\n| 9 | 108 | Nancy     | Greenberg | NGREENBE | 515.124.4569 | 2002-08-17 | FI_MGR     | 12008 | 0 | 101 | 100 |\n| 10 | 109 | Daniel    | Faviet    | DFAVIET  | 515.124.4169 | 2002-08-16 | FI_ACCOUNT |  9000 | 0 | 108 | 100 |\n\n",
            "text/html": [
              "<table>\n",
              "<caption>A data.frame: 10 × 11</caption>\n",
              "<thead>\n",
              "\t<tr><th></th><th scope=col>EMPLOYEE_ID</th><th scope=col>FIRST_NAME</th><th scope=col>LAST_NAME</th><th scope=col>EMAIL</th><th scope=col>PHONE_NUMBER</th><th scope=col>HIRE_DATE</th><th scope=col>JOB_ID</th><th scope=col>SALARY</th><th scope=col>COMMISSION_PCT</th><th scope=col>MANAGER_ID</th><th scope=col>DEPARTMENT_ID</th></tr>\n",
              "\t<tr><th></th><th scope=col>&lt;int&gt;</th><th scope=col>&lt;fct&gt;</th><th scope=col>&lt;fct&gt;</th><th scope=col>&lt;fct&gt;</th><th scope=col>&lt;fct&gt;</th><th scope=col>&lt;fct&gt;</th><th scope=col>&lt;fct&gt;</th><th scope=col>&lt;int&gt;</th><th scope=col>&lt;dbl&gt;</th><th scope=col>&lt;int&gt;</th><th scope=col>&lt;int&gt;</th></tr>\n",
              "</thead>\n",
              "<tbody>\n",
              "\t<tr><th scope=row>1</th><td>100</td><td>Steven   </td><td>King     </td><td>SKING   </td><td>515.123.4567</td><td>2003-06-17</td><td>AD_PRES   </td><td>24000</td><td>0</td><td> NA</td><td> 90</td></tr>\n",
              "\t<tr><th scope=row>2</th><td>101</td><td>Neena    </td><td>Kochhar  </td><td>NKOCHHAR</td><td>515.123.4568</td><td>2005-09-21</td><td>AD_VP     </td><td>17000</td><td>0</td><td>100</td><td> 90</td></tr>\n",
              "\t<tr><th scope=row>3</th><td>102</td><td>Lex      </td><td>De Haan  </td><td>LDEHAAN </td><td>515.123.4569</td><td>2001-01-13</td><td>AD_VP     </td><td>17000</td><td>0</td><td>100</td><td> 90</td></tr>\n",
              "\t<tr><th scope=row>4</th><td>103</td><td>Alexander</td><td>Hunold   </td><td>AHUNOLD </td><td>590.423.4567</td><td>2006-01-03</td><td>IT_PROG   </td><td> 9000</td><td>0</td><td>102</td><td> 60</td></tr>\n",
              "\t<tr><th scope=row>5</th><td>104</td><td>Bruce    </td><td>Ernst    </td><td>BERNST  </td><td>590.423.4568</td><td>2007-05-21</td><td>IT_PROG   </td><td> 6000</td><td>0</td><td>103</td><td> 60</td></tr>\n",
              "\t<tr><th scope=row>6</th><td>105</td><td>David    </td><td>Austin   </td><td>DAUSTIN </td><td>590.423.4569</td><td>2005-06-25</td><td>IT_PROG   </td><td> 4800</td><td>0</td><td>103</td><td> 60</td></tr>\n",
              "\t<tr><th scope=row>7</th><td>106</td><td>Valli    </td><td>Pataballa</td><td>VPATABAL</td><td>590.423.4560</td><td>2006-02-05</td><td>IT_PROG   </td><td> 4800</td><td>0</td><td>103</td><td> 60</td></tr>\n",
              "\t<tr><th scope=row>8</th><td>107</td><td>Diana    </td><td>Lorentz  </td><td>DLORENTZ</td><td>590.423.5567</td><td>2007-02-07</td><td>IT_PROG   </td><td> 4200</td><td>0</td><td>103</td><td> 60</td></tr>\n",
              "\t<tr><th scope=row>9</th><td>108</td><td>Nancy    </td><td>Greenberg</td><td>NGREENBE</td><td>515.124.4569</td><td>2002-08-17</td><td>FI_MGR    </td><td>12008</td><td>0</td><td>101</td><td>100</td></tr>\n",
              "\t<tr><th scope=row>10</th><td>109</td><td>Daniel   </td><td>Faviet   </td><td>DFAVIET </td><td>515.124.4169</td><td>2002-08-16</td><td>FI_ACCOUNT</td><td> 9000</td><td>0</td><td>108</td><td>100</td></tr>\n",
              "</tbody>\n",
              "</table>\n"
            ]
          },
          "metadata": {
            "tags": []
          }
        }
      ]
    }
  ]
}